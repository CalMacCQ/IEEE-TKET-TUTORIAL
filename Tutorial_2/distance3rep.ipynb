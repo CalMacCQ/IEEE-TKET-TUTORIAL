{
 "cells": [
  {
   "cell_type": "markdown",
   "id": "ec40652f-6801-4311-b2e0-94a59b946f94",
   "metadata": {},
   "source": [
    "# Simple Repetition Code using pytket-quantinuum\n",
    "\n",
    "## Background on QEC\n",
    "\n",
    "As you may know, for many of the most attractive applications of quantum computing require the use of quantum error correction.\n",
    "\n",
    "The basic idea of error correction is to protect the computation from noise by using additonal physical qubits. We protect some subspace for computation by encoding it in a larger quantum state.\n",
    "\n",
    "In this notebook we will take a look at a quantum circuit that implements the repition code. This is a simple example intended to introduce QEC and show the exectution of quantum-classical circuits.\n",
    "\n",
    "The repition code is useful for explanatory purposes but isn't considered a \"good\" quantum code as it can't correct against phase errors.\n",
    "\n",
    "\n",
    "The distance $d$ repetition code protects 1 quantum bit using $d$ physical qubits.\n",
    "\n",
    "$$\n",
    "\\begin{equation}\n",
    "|\\bar{0}\\rangle = |0\\rangle ^{\\otimes d} \\, , \\quad |\\bar{1}\\rangle = |1\\rangle^{\\otimes d}\n",
    "\\end{equation}\n",
    "$$\n",
    "We will look at the distance 3 vairant (d=3).\n",
    "$$\n",
    "\\begin{equation}\n",
    "|\\bar{0}\\rangle = |000\\rangle \\, , \\quad |\\bar{1}\\rangle = |111\\rangle\n",
    "\\end{equation}\n",
    "$$\n",
    "\n",
    "The codespace is $C = \\{ |000\\rangle \\, , |111\\rangle\\}$. This is a distance 3 code because the codewords differ by 3 bit flips. The minimum Hamming distance between them is 3.\n",
    "\n",
    "The following notation is used to summarise the properties of a quantum code\n",
    "$$\n",
    "\\begin{equation}\n",
    "[[n,\\, k,\\, d]]\n",
    "\\end{equation}\n",
    "$$\n",
    "\n",
    "$n$ - The number of \"physical\" qubits required to implement the code. \n",
    "\n",
    "$k$ - The number of \"logical\" qubits that can be protected by the code.\n",
    "\n",
    "$d$ - The \"distance\" of the code. This is related to the number of faults a code can correct for. a distance $d$ code can correct $\\lfloor{\\frac{d-1}{2}\\rfloor}$ errors.\n",
    "\n",
    "The three qubit repetition code is a $[[3,\\, 1,\\, 3]]$ code.\n",
    "\n",
    "Two well known quantum codes are the $[[9,\\, 1,\\, 3]]$ Shor code and the $[[7,\\, 1,\\, 3]]$ Steane code. These protect the state of a single qubit using 9 and 7 qubits respectively."
   ]
  },
  {
   "cell_type": "markdown",
   "id": "2e1f6a29-bed0-4113-9b21-d5df8b9ecc7a",
   "metadata": {},
   "source": [
    "## Encoding\n",
    "\n",
    "Here we encode assume that the `data[0]` qubit is in the $|0\\rangle$ or $|1\\rangle$ state. We can then encode our quantum bit into a 3 qubit quantum state with two CNOT gates."
   ]
  },
  {
   "cell_type": "code",
   "execution_count": 1,
   "id": "f74ede4f-505c-47b4-a4ec-829c5b444b5b",
   "metadata": {},
   "outputs": [
    {
     "data": {
      "text/html": [
       "\n",
       "\n",
       "\n",
       "\n",
       "\n",
       "\n",
       "<div style=\"resize: vertical; overflow: auto; height: 400px; display: block\">\n",
       "    <iframe srcdoc=\"\n",
       "&lt;!DOCTYPE html&gt;\n",
       "&lt;html lang=&#34;en&#34;&gt;\n",
       "&lt;head&gt;\n",
       "    &lt;meta charset=&#34;UTF-8&#34;&gt;\n",
       "    &lt;!-- Download Vue 3--&gt;\n",
       "&lt;script type=&#34;application/javascript&#34; src=&#34;https://cdn.jsdelivr.net/npm/vue@3&#34;&gt;&lt;/script&gt;\n",
       "&lt;!-- Download Circuit Renderer with styles --&gt;\n",
       "&lt;script type=&#34;application/javascript&#34; src=&#34;https://unpkg.com/pytket-circuit-renderer@0.6/dist/pytket-circuit-renderer.umd.js&#34;&gt;&lt;/script&gt;\n",
       "&lt;link rel=&#34;stylesheet&#34; href=&#34;https://unpkg.com/pytket-circuit-renderer@0.6/dist/pytket-circuit-renderer.css&#34;&gt;\n",
       "&lt;/head&gt;\n",
       "&lt;body&gt;\n",
       "\n",
       "\n",
       "\n",
       "    &lt;div id=&#34;circuit-display-vue-container-831cd9b5-6a3a-41a0-ab92-d8c93f679f7e&#34; class=&#34;pytket-circuit-display-container&#34;&gt;\n",
       "        &lt;div style=&#34;display: none&#34;&gt;\n",
       "            &lt;div id=&#34;circuit-json-to-display&#34;&gt;{&#34;bits&#34;: [], &#34;commands&#34;: [{&#34;args&#34;: [[&#34;data&#34;, [0]], [&#34;data&#34;, [1]]], &#34;op&#34;: {&#34;type&#34;: &#34;CX&#34;}}, {&#34;args&#34;: [[&#34;data&#34;, [0]], [&#34;data&#34;, [2]]], &#34;op&#34;: {&#34;type&#34;: &#34;CX&#34;}}], &#34;created_qubits&#34;: [], &#34;discarded_qubits&#34;: [], &#34;implicit_permutation&#34;: [[[&#34;data&#34;, [0]], [&#34;data&#34;, [0]]], [[&#34;data&#34;, [1]], [&#34;data&#34;, [1]]], [[&#34;data&#34;, [2]], [&#34;data&#34;, [2]]]], &#34;name&#34;: &#34;Repetition Code&#34;, &#34;phase&#34;: &#34;0.0&#34;, &#34;qubits&#34;: [[&#34;data&#34;, [0]], [&#34;data&#34;, [1]], [&#34;data&#34;, [2]]]}&lt;/div&gt;\n",
       "        &lt;/div&gt;\n",
       "        &lt;circuit-display-container\n",
       "                :circuit-element-str=&#34;&#39;#circuit-json-to-display&#39;&#34;\n",
       "                :init-render-options=&#34;initRenderOptions&#34;\n",
       "        &gt;&lt;/circuit-display-container&gt;\n",
       "    &lt;/div&gt;\n",
       "    &lt;script type=&#34;application/javascript&#34;&gt;\n",
       "      const circuitRendererUid = &#34;831cd9b5-6a3a-41a0-ab92-d8c93f679f7e&#34;;\n",
       "      const displayOptions = JSON.parse(&#39;{}&#39;);\n",
       "\n",
       "      // Script to initialise the circuit renderer app\n",
       "\n",
       "const { createApp } = Vue;\n",
       "const circuitDisplayContainer = window[&#34;pytket-circuit-renderer&#34;].default;\n",
       "// Init variables to be shared between circuit display instances\n",
       "if (typeof window.pytketCircuitDisplays === &#34;undefined&#34;) {\n",
       "    window.pytketCircuitDisplays = {};\n",
       "}\n",
       "// Create the root Vue component\n",
       "const app = createApp({\n",
       "    delimiters: [&#39;[[#&#39;, &#39;#]]&#39;],\n",
       "    components: { circuitDisplayContainer },\n",
       "    data () {\n",
       "      return {\n",
       "        initRenderOptions: displayOptions,\n",
       "      }\n",
       "    }\n",
       "})\n",
       "app.config.unwrapInjectedRef = true;\n",
       "app.mount(&#34;#circuit-display-vue-container-&#34;+circuitRendererUid);\n",
       "window.pytketCircuitDisplays[circuitRendererUid] = app;\n",
       "    &lt;/script&gt;\n",
       "\n",
       "\n",
       "\n",
       "&lt;/body&gt;\n",
       "&lt;/html&gt;\n",
       "\"\n",
       "            width=\"100%\" height=\"100%\"\n",
       "            style=\"border: none; outline: none; overflow: auto\"></iframe>\n",
       "</div>\n",
       "\n"
      ],
      "text/plain": [
       "<IPython.core.display.HTML object>"
      ]
     },
     "metadata": {},
     "output_type": "display_data"
    }
   ],
   "source": [
    "from pytket import Circuit\n",
    "from pytket.circuit.display import render_circuit_jupyter\n",
    "\n",
    "circuit = Circuit(name=\"Repetition Code\")\n",
    "# Add qubit register, the data qubits\n",
    "data = circuit.add_q_register(\"data\", 3)\n",
    "circuit.CX(data[0], data[1]).CX(data[0], data[2])\n",
    "render_circuit_jupyter(circuit)"
   ]
  },
  {
   "cell_type": "markdown",
   "id": "8f785d8f-6781-448b-bfb9-3fb27029308f",
   "metadata": {},
   "source": [
    "## Syndrome Extraction\n",
    "\n",
    "In quantum computing measurement is invasive in the sense that it \"collapses\" the state. \n",
    "\n",
    "To circumvent this we will perform parity measurements on two ancilla qubits. These parity measurements tell us whether an error is likely to have occured and whether we need to take action to correct our state.\n",
    "\n",
    "Note that for simplicity that we will assume all errors to take place between our encoding step and our syndrome extraction.\n",
    "\n",
    "We will write these measurement results to a classical register containing 2 bits. These are our syndrome bits."
   ]
  },
  {
   "cell_type": "markdown",
   "id": "4896d5a2-0386-4f59-b4d2-a8472d5a3568",
   "metadata": {},
   "source": [
    "### Set up registers"
   ]
  },
  {
   "cell_type": "code",
   "execution_count": 2,
   "id": "c930d1e8-1008-4c57-876b-c89619cd2dd5",
   "metadata": {},
   "outputs": [
    {
     "data": {
      "text/plain": [
       "[CX data[0], data[1]; CX data[0], data[2]; Barrier anc[0], anc[1], data[0], data[1], data[2]; ]"
      ]
     },
     "execution_count": 2,
     "metadata": {},
     "output_type": "execute_result"
    }
   ],
   "source": [
    "# Add ancillas, These are measured in the syndrome extraction stage\n",
    "ancilla = circuit.add_q_register(\"anc\", 2)\n",
    "\n",
    "# add syndrome bits\n",
    "syndrome = circuit.add_c_register(\"syndrome\", 2)\n",
    "\n",
    "# Add classical registers for the output\n",
    "output = circuit.add_c_register(\"output\", 3)\n",
    "\n",
    "circuit.add_barrier(circuit.qubits)"
   ]
  },
  {
   "cell_type": "markdown",
   "id": "010079e7-645d-4199-9910-dc1bae263f2e",
   "metadata": {},
   "source": [
    "### Add Syndrome Measurements\n",
    "\n",
    "Here we perform a single round of error correction. Note that in practice we typically perform multiple rounds of error correction. We could wrap the following cell in a for loop which we will do later on."
   ]
  },
  {
   "cell_type": "code",
   "execution_count": 3,
   "id": "b229ed32-3f25-4a70-bad1-6c26c3a0cfb9",
   "metadata": {},
   "outputs": [
    {
     "data": {
      "text/html": [
       "\n",
       "\n",
       "\n",
       "\n",
       "\n",
       "\n",
       "<div style=\"resize: vertical; overflow: auto; height: 400px; display: block\">\n",
       "    <iframe srcdoc=\"\n",
       "&lt;!DOCTYPE html&gt;\n",
       "&lt;html lang=&#34;en&#34;&gt;\n",
       "&lt;head&gt;\n",
       "    &lt;meta charset=&#34;UTF-8&#34;&gt;\n",
       "    &lt;!-- Download Vue 3--&gt;\n",
       "&lt;script type=&#34;application/javascript&#34; src=&#34;https://cdn.jsdelivr.net/npm/vue@3&#34;&gt;&lt;/script&gt;\n",
       "&lt;!-- Download Circuit Renderer with styles --&gt;\n",
       "&lt;script type=&#34;application/javascript&#34; src=&#34;https://unpkg.com/pytket-circuit-renderer@0.6/dist/pytket-circuit-renderer.umd.js&#34;&gt;&lt;/script&gt;\n",
       "&lt;link rel=&#34;stylesheet&#34; href=&#34;https://unpkg.com/pytket-circuit-renderer@0.6/dist/pytket-circuit-renderer.css&#34;&gt;\n",
       "&lt;/head&gt;\n",
       "&lt;body&gt;\n",
       "\n",
       "\n",
       "\n",
       "    &lt;div id=&#34;circuit-display-vue-container-66a305d4-2d5c-477a-ba1b-d316b65f1b69&#34; class=&#34;pytket-circuit-display-container&#34;&gt;\n",
       "        &lt;div style=&#34;display: none&#34;&gt;\n",
       "            &lt;div id=&#34;circuit-json-to-display&#34;&gt;{&#34;bits&#34;: [[&#34;output&#34;, [0]], [&#34;output&#34;, [1]], [&#34;output&#34;, [2]], [&#34;syndrome&#34;, [0]], [&#34;syndrome&#34;, [1]]], &#34;commands&#34;: [{&#34;args&#34;: [[&#34;data&#34;, [0]], [&#34;data&#34;, [1]]], &#34;op&#34;: {&#34;type&#34;: &#34;CX&#34;}}, {&#34;args&#34;: [[&#34;data&#34;, [0]], [&#34;data&#34;, [2]]], &#34;op&#34;: {&#34;type&#34;: &#34;CX&#34;}}, {&#34;args&#34;: [[&#34;anc&#34;, [0]], [&#34;anc&#34;, [1]], [&#34;data&#34;, [0]], [&#34;data&#34;, [1]], [&#34;data&#34;, [2]]], &#34;op&#34;: {&#34;data&#34;: &#34;&#34;, &#34;signature&#34;: [&#34;Q&#34;, &#34;Q&#34;, &#34;Q&#34;, &#34;Q&#34;, &#34;Q&#34;], &#34;type&#34;: &#34;Barrier&#34;}}, {&#34;args&#34;: [[&#34;data&#34;, [0]], [&#34;anc&#34;, [0]]], &#34;op&#34;: {&#34;type&#34;: &#34;CX&#34;}}, {&#34;args&#34;: [[&#34;data&#34;, [1]], [&#34;anc&#34;, [0]]], &#34;op&#34;: {&#34;type&#34;: &#34;CX&#34;}}, {&#34;args&#34;: [[&#34;anc&#34;, [0]], [&#34;syndrome&#34;, [0]]], &#34;op&#34;: {&#34;type&#34;: &#34;Measure&#34;}}, {&#34;args&#34;: [[&#34;data&#34;, [1]], [&#34;anc&#34;, [1]]], &#34;op&#34;: {&#34;type&#34;: &#34;CX&#34;}}, {&#34;args&#34;: [[&#34;anc&#34;, [0]]], &#34;op&#34;: {&#34;type&#34;: &#34;Reset&#34;}}, {&#34;args&#34;: [[&#34;data&#34;, [2]], [&#34;anc&#34;, [1]]], &#34;op&#34;: {&#34;type&#34;: &#34;CX&#34;}}, {&#34;args&#34;: [[&#34;anc&#34;, [1]], [&#34;syndrome&#34;, [1]]], &#34;op&#34;: {&#34;type&#34;: &#34;Measure&#34;}}, {&#34;args&#34;: [[&#34;anc&#34;, [1]]], &#34;op&#34;: {&#34;type&#34;: &#34;Reset&#34;}}], &#34;created_qubits&#34;: [], &#34;discarded_qubits&#34;: [], &#34;implicit_permutation&#34;: [[[&#34;anc&#34;, [0]], [&#34;anc&#34;, [0]]], [[&#34;anc&#34;, [1]], [&#34;anc&#34;, [1]]], [[&#34;data&#34;, [0]], [&#34;data&#34;, [0]]], [[&#34;data&#34;, [1]], [&#34;data&#34;, [1]]], [[&#34;data&#34;, [2]], [&#34;data&#34;, [2]]]], &#34;name&#34;: &#34;Repetition Code&#34;, &#34;phase&#34;: &#34;0.0&#34;, &#34;qubits&#34;: [[&#34;anc&#34;, [0]], [&#34;anc&#34;, [1]], [&#34;data&#34;, [0]], [&#34;data&#34;, [1]], [&#34;data&#34;, [2]]]}&lt;/div&gt;\n",
       "        &lt;/div&gt;\n",
       "        &lt;circuit-display-container\n",
       "                :circuit-element-str=&#34;&#39;#circuit-json-to-display&#39;&#34;\n",
       "                :init-render-options=&#34;initRenderOptions&#34;\n",
       "        &gt;&lt;/circuit-display-container&gt;\n",
       "    &lt;/div&gt;\n",
       "    &lt;script type=&#34;application/javascript&#34;&gt;\n",
       "      const circuitRendererUid = &#34;66a305d4-2d5c-477a-ba1b-d316b65f1b69&#34;;\n",
       "      const displayOptions = JSON.parse(&#39;{}&#39;);\n",
       "\n",
       "      // Script to initialise the circuit renderer app\n",
       "\n",
       "const { createApp } = Vue;\n",
       "const circuitDisplayContainer = window[&#34;pytket-circuit-renderer&#34;].default;\n",
       "// Init variables to be shared between circuit display instances\n",
       "if (typeof window.pytketCircuitDisplays === &#34;undefined&#34;) {\n",
       "    window.pytketCircuitDisplays = {};\n",
       "}\n",
       "// Create the root Vue component\n",
       "const app = createApp({\n",
       "    delimiters: [&#39;[[#&#39;, &#39;#]]&#39;],\n",
       "    components: { circuitDisplayContainer },\n",
       "    data () {\n",
       "      return {\n",
       "        initRenderOptions: displayOptions,\n",
       "      }\n",
       "    }\n",
       "})\n",
       "app.config.unwrapInjectedRef = true;\n",
       "app.mount(&#34;#circuit-display-vue-container-&#34;+circuitRendererUid);\n",
       "window.pytketCircuitDisplays[circuitRendererUid] = app;\n",
       "    &lt;/script&gt;\n",
       "\n",
       "\n",
       "\n",
       "&lt;/body&gt;\n",
       "&lt;/html&gt;\n",
       "\"\n",
       "            width=\"100%\" height=\"100%\"\n",
       "            style=\"border: none; outline: none; overflow: auto\"></iframe>\n",
       "</div>\n",
       "\n"
      ],
      "text/plain": [
       "<IPython.core.display.HTML object>"
      ]
     },
     "metadata": {},
     "output_type": "display_data"
    }
   ],
   "source": [
    "from pytket import OpType\n",
    "\n",
    "circuit.CX(data[0], ancilla[0])\n",
    "circuit.CX(data[1], ancilla[0])\n",
    "circuit.Measure(ancilla[0], syndrome[0])\n",
    "circuit.add_gate(OpType.Reset, [ancilla[0]])\n",
    "# Syndrome Extraction\n",
    "circuit.CX(data[1], ancilla[1])\n",
    "circuit.CX(data[2], ancilla[1])\n",
    "circuit.Measure(ancilla[1], syndrome[1])\n",
    "circuit.add_gate(OpType.Reset, [ancilla[1]])\n",
    "\n",
    "render_circuit_jupyter(circuit)"
   ]
  },
  {
   "cell_type": "markdown",
   "id": "0684fa47-1b04-42cc-af4e-388566001e2b",
   "metadata": {},
   "source": [
    "## Decoding\n",
    "\n",
    "Now that we've made our syndrome measurements we need to do some classical processing to determine where we need to make our corrections.\n",
    "\n",
    "Decoding typically requires some non-trivial processing at quantum runtime often using algorithms such as minimum weight perfect matching.\n",
    "\n",
    "In our simplified example we will use register comparison operations. These operations are not supported in the standard OpenQASM 2.0 but are supported using extended QASM with the \"hqslib1\" qasm header.\n",
    "\n",
    "These operations are supported by the quantinnum stack so we can compile and execute circuits to perform these operations at runtime.\n"
   ]
  },
  {
   "cell_type": "markdown",
   "id": "d1119bac-1249-4c83-b2a9-2c223f05cbb8",
   "metadata": {},
   "source": [
    "```python\n",
    "circuit.X(data[1], condition=reg_eq(syndrome, 3))\n",
    "```\n",
    "This means...\n",
    "\n",
    "If the value of the syndrome register is equal to 3 (little endian), apply X. Else, do nothing."
   ]
  },
  {
   "cell_type": "code",
   "execution_count": 4,
   "id": "e6456439-e885-484d-847a-faae7eb1c1e8",
   "metadata": {},
   "outputs": [
    {
     "data": {
      "text/html": [
       "\n",
       "\n",
       "\n",
       "\n",
       "\n",
       "\n",
       "<div style=\"resize: vertical; overflow: auto; height: 400px; display: block\">\n",
       "    <iframe srcdoc=\"\n",
       "&lt;!DOCTYPE html&gt;\n",
       "&lt;html lang=&#34;en&#34;&gt;\n",
       "&lt;head&gt;\n",
       "    &lt;meta charset=&#34;UTF-8&#34;&gt;\n",
       "    &lt;!-- Download Vue 3--&gt;\n",
       "&lt;script type=&#34;application/javascript&#34; src=&#34;https://cdn.jsdelivr.net/npm/vue@3&#34;&gt;&lt;/script&gt;\n",
       "&lt;!-- Download Circuit Renderer with styles --&gt;\n",
       "&lt;script type=&#34;application/javascript&#34; src=&#34;https://unpkg.com/pytket-circuit-renderer@0.6/dist/pytket-circuit-renderer.umd.js&#34;&gt;&lt;/script&gt;\n",
       "&lt;link rel=&#34;stylesheet&#34; href=&#34;https://unpkg.com/pytket-circuit-renderer@0.6/dist/pytket-circuit-renderer.css&#34;&gt;\n",
       "&lt;/head&gt;\n",
       "&lt;body&gt;\n",
       "\n",
       "\n",
       "\n",
       "    &lt;div id=&#34;circuit-display-vue-container-8b18e3bf-84b3-4e05-8aab-ea34e0396405&#34; class=&#34;pytket-circuit-display-container&#34;&gt;\n",
       "        &lt;div style=&#34;display: none&#34;&gt;\n",
       "            &lt;div id=&#34;circuit-json-to-display&#34;&gt;{&#34;bits&#34;: [[&#34;output&#34;, [0]], [&#34;output&#34;, [1]], [&#34;output&#34;, [2]], [&#34;syndrome&#34;, [0]], [&#34;syndrome&#34;, [1]], [&#34;tk_SCRATCH_BIT&#34;, [0]], [&#34;tk_SCRATCH_BIT&#34;, [1]], [&#34;tk_SCRATCH_BIT&#34;, [2]]], &#34;commands&#34;: [{&#34;args&#34;: [[&#34;data&#34;, [0]], [&#34;data&#34;, [1]]], &#34;op&#34;: {&#34;type&#34;: &#34;CX&#34;}}, {&#34;args&#34;: [[&#34;data&#34;, [0]], [&#34;data&#34;, [2]]], &#34;op&#34;: {&#34;type&#34;: &#34;CX&#34;}}, {&#34;args&#34;: [[&#34;anc&#34;, [0]], [&#34;anc&#34;, [1]], [&#34;data&#34;, [0]], [&#34;data&#34;, [1]], [&#34;data&#34;, [2]]], &#34;op&#34;: {&#34;data&#34;: &#34;&#34;, &#34;signature&#34;: [&#34;Q&#34;, &#34;Q&#34;, &#34;Q&#34;, &#34;Q&#34;, &#34;Q&#34;], &#34;type&#34;: &#34;Barrier&#34;}}, {&#34;args&#34;: [[&#34;data&#34;, [0]], [&#34;anc&#34;, [0]]], &#34;op&#34;: {&#34;type&#34;: &#34;CX&#34;}}, {&#34;args&#34;: [[&#34;data&#34;, [1]], [&#34;anc&#34;, [0]]], &#34;op&#34;: {&#34;type&#34;: &#34;CX&#34;}}, {&#34;args&#34;: [[&#34;anc&#34;, [0]], [&#34;syndrome&#34;, [0]]], &#34;op&#34;: {&#34;type&#34;: &#34;Measure&#34;}}, {&#34;args&#34;: [[&#34;data&#34;, [1]], [&#34;anc&#34;, [1]]], &#34;op&#34;: {&#34;type&#34;: &#34;CX&#34;}}, {&#34;args&#34;: [[&#34;anc&#34;, [0]]], &#34;op&#34;: {&#34;type&#34;: &#34;Reset&#34;}}, {&#34;args&#34;: [[&#34;data&#34;, [2]], [&#34;anc&#34;, [1]]], &#34;op&#34;: {&#34;type&#34;: &#34;CX&#34;}}, {&#34;args&#34;: [[&#34;anc&#34;, [1]], [&#34;syndrome&#34;, [1]]], &#34;op&#34;: {&#34;type&#34;: &#34;Measure&#34;}}, {&#34;args&#34;: [[&#34;anc&#34;, [1]]], &#34;op&#34;: {&#34;type&#34;: &#34;Reset&#34;}}, {&#34;args&#34;: [[&#34;syndrome&#34;, [0]], [&#34;syndrome&#34;, [1]], [&#34;tk_SCRATCH_BIT&#34;, [0]]], &#34;op&#34;: {&#34;classical&#34;: {&#34;lower&#34;: 1, &#34;n_i&#34;: 2, &#34;upper&#34;: 1}, &#34;type&#34;: &#34;RangePredicate&#34;}}, {&#34;args&#34;: [[&#34;syndrome&#34;, [0]], [&#34;syndrome&#34;, [1]], [&#34;tk_SCRATCH_BIT&#34;, [1]]], &#34;op&#34;: {&#34;classical&#34;: {&#34;lower&#34;: 3, &#34;n_i&#34;: 2, &#34;upper&#34;: 3}, &#34;type&#34;: &#34;RangePredicate&#34;}}, {&#34;args&#34;: [[&#34;syndrome&#34;, [0]], [&#34;syndrome&#34;, [1]], [&#34;tk_SCRATCH_BIT&#34;, [2]]], &#34;op&#34;: {&#34;classical&#34;: {&#34;lower&#34;: 2, &#34;n_i&#34;: 2, &#34;upper&#34;: 2}, &#34;type&#34;: &#34;RangePredicate&#34;}}, {&#34;args&#34;: [[&#34;tk_SCRATCH_BIT&#34;, [0]], [&#34;data&#34;, [0]]], &#34;op&#34;: {&#34;conditional&#34;: {&#34;op&#34;: {&#34;type&#34;: &#34;X&#34;}, &#34;value&#34;: 1, &#34;width&#34;: 1}, &#34;type&#34;: &#34;Conditional&#34;}}, {&#34;args&#34;: [[&#34;tk_SCRATCH_BIT&#34;, [1]], [&#34;data&#34;, [1]]], &#34;op&#34;: {&#34;conditional&#34;: {&#34;op&#34;: {&#34;type&#34;: &#34;X&#34;}, &#34;value&#34;: 1, &#34;width&#34;: 1}, &#34;type&#34;: &#34;Conditional&#34;}}, {&#34;args&#34;: [[&#34;tk_SCRATCH_BIT&#34;, [2]], [&#34;data&#34;, [2]]], &#34;op&#34;: {&#34;conditional&#34;: {&#34;op&#34;: {&#34;type&#34;: &#34;X&#34;}, &#34;value&#34;: 1, &#34;width&#34;: 1}, &#34;type&#34;: &#34;Conditional&#34;}}], &#34;created_qubits&#34;: [], &#34;discarded_qubits&#34;: [], &#34;implicit_permutation&#34;: [[[&#34;anc&#34;, [0]], [&#34;anc&#34;, [0]]], [[&#34;anc&#34;, [1]], [&#34;anc&#34;, [1]]], [[&#34;data&#34;, [0]], [&#34;data&#34;, [0]]], [[&#34;data&#34;, [1]], [&#34;data&#34;, [1]]], [[&#34;data&#34;, [2]], [&#34;data&#34;, [2]]]], &#34;name&#34;: &#34;Repetition Code&#34;, &#34;phase&#34;: &#34;0.0&#34;, &#34;qubits&#34;: [[&#34;anc&#34;, [0]], [&#34;anc&#34;, [1]], [&#34;data&#34;, [0]], [&#34;data&#34;, [1]], [&#34;data&#34;, [2]]]}&lt;/div&gt;\n",
       "        &lt;/div&gt;\n",
       "        &lt;circuit-display-container\n",
       "                :circuit-element-str=&#34;&#39;#circuit-json-to-display&#39;&#34;\n",
       "                :init-render-options=&#34;initRenderOptions&#34;\n",
       "        &gt;&lt;/circuit-display-container&gt;\n",
       "    &lt;/div&gt;\n",
       "    &lt;script type=&#34;application/javascript&#34;&gt;\n",
       "      const circuitRendererUid = &#34;8b18e3bf-84b3-4e05-8aab-ea34e0396405&#34;;\n",
       "      const displayOptions = JSON.parse(&#39;{}&#39;);\n",
       "\n",
       "      // Script to initialise the circuit renderer app\n",
       "\n",
       "const { createApp } = Vue;\n",
       "const circuitDisplayContainer = window[&#34;pytket-circuit-renderer&#34;].default;\n",
       "// Init variables to be shared between circuit display instances\n",
       "if (typeof window.pytketCircuitDisplays === &#34;undefined&#34;) {\n",
       "    window.pytketCircuitDisplays = {};\n",
       "}\n",
       "// Create the root Vue component\n",
       "const app = createApp({\n",
       "    delimiters: [&#39;[[#&#39;, &#39;#]]&#39;],\n",
       "    components: { circuitDisplayContainer },\n",
       "    data () {\n",
       "      return {\n",
       "        initRenderOptions: displayOptions,\n",
       "      }\n",
       "    }\n",
       "})\n",
       "app.config.unwrapInjectedRef = true;\n",
       "app.mount(&#34;#circuit-display-vue-container-&#34;+circuitRendererUid);\n",
       "window.pytketCircuitDisplays[circuitRendererUid] = app;\n",
       "    &lt;/script&gt;\n",
       "\n",
       "\n",
       "\n",
       "&lt;/body&gt;\n",
       "&lt;/html&gt;\n",
       "\"\n",
       "            width=\"100%\" height=\"100%\"\n",
       "            style=\"border: none; outline: none; overflow: auto\"></iframe>\n",
       "</div>\n",
       "\n"
      ],
      "text/plain": [
       "<IPython.core.display.HTML object>"
      ]
     },
     "metadata": {},
     "output_type": "display_data"
    }
   ],
   "source": [
    "from pytket.circuit.logic_exp import reg_eq\n",
    "\n",
    "# Correction\n",
    "circuit.X(data[0], condition=reg_eq(syndrome, 1))\n",
    "circuit.X(data[1], condition=reg_eq(syndrome, 3))\n",
    "circuit.X(data[2], condition=reg_eq(syndrome, 2))\n",
    "\n",
    "render_circuit_jupyter(circuit)"
   ]
  },
  {
   "cell_type": "markdown",
   "id": "c64ec1b6-311c-4f83-b4dc-8699283a739b",
   "metadata": {},
   "source": [
    "Now we can measure out our three data qubits."
   ]
  },
  {
   "cell_type": "code",
   "execution_count": 5,
   "id": "ace9f382-40cb-4ced-9ad7-88af32d80b7a",
   "metadata": {},
   "outputs": [
    {
     "data": {
      "text/html": [
       "\n",
       "\n",
       "\n",
       "\n",
       "\n",
       "\n",
       "<div style=\"resize: vertical; overflow: auto; height: 400px; display: block\">\n",
       "    <iframe srcdoc=\"\n",
       "&lt;!DOCTYPE html&gt;\n",
       "&lt;html lang=&#34;en&#34;&gt;\n",
       "&lt;head&gt;\n",
       "    &lt;meta charset=&#34;UTF-8&#34;&gt;\n",
       "    &lt;!-- Download Vue 3--&gt;\n",
       "&lt;script type=&#34;application/javascript&#34; src=&#34;https://cdn.jsdelivr.net/npm/vue@3&#34;&gt;&lt;/script&gt;\n",
       "&lt;!-- Download Circuit Renderer with styles --&gt;\n",
       "&lt;script type=&#34;application/javascript&#34; src=&#34;https://unpkg.com/pytket-circuit-renderer@0.6/dist/pytket-circuit-renderer.umd.js&#34;&gt;&lt;/script&gt;\n",
       "&lt;link rel=&#34;stylesheet&#34; href=&#34;https://unpkg.com/pytket-circuit-renderer@0.6/dist/pytket-circuit-renderer.css&#34;&gt;\n",
       "&lt;/head&gt;\n",
       "&lt;body&gt;\n",
       "\n",
       "\n",
       "\n",
       "    &lt;div id=&#34;circuit-display-vue-container-b1902ea7-14bc-4397-a387-0d6c1ac4b034&#34; class=&#34;pytket-circuit-display-container&#34;&gt;\n",
       "        &lt;div style=&#34;display: none&#34;&gt;\n",
       "            &lt;div id=&#34;circuit-json-to-display&#34;&gt;{&#34;bits&#34;: [[&#34;output&#34;, [0]], [&#34;output&#34;, [1]], [&#34;output&#34;, [2]], [&#34;syndrome&#34;, [0]], [&#34;syndrome&#34;, [1]], [&#34;tk_SCRATCH_BIT&#34;, [0]], [&#34;tk_SCRATCH_BIT&#34;, [1]], [&#34;tk_SCRATCH_BIT&#34;, [2]]], &#34;commands&#34;: [{&#34;args&#34;: [[&#34;data&#34;, [0]], [&#34;data&#34;, [1]]], &#34;op&#34;: {&#34;type&#34;: &#34;CX&#34;}}, {&#34;args&#34;: [[&#34;data&#34;, [0]], [&#34;data&#34;, [2]]], &#34;op&#34;: {&#34;type&#34;: &#34;CX&#34;}}, {&#34;args&#34;: [[&#34;anc&#34;, [0]], [&#34;anc&#34;, [1]], [&#34;data&#34;, [0]], [&#34;data&#34;, [1]], [&#34;data&#34;, [2]]], &#34;op&#34;: {&#34;data&#34;: &#34;&#34;, &#34;signature&#34;: [&#34;Q&#34;, &#34;Q&#34;, &#34;Q&#34;, &#34;Q&#34;, &#34;Q&#34;], &#34;type&#34;: &#34;Barrier&#34;}}, {&#34;args&#34;: [[&#34;data&#34;, [0]], [&#34;anc&#34;, [0]]], &#34;op&#34;: {&#34;type&#34;: &#34;CX&#34;}}, {&#34;args&#34;: [[&#34;data&#34;, [1]], [&#34;anc&#34;, [0]]], &#34;op&#34;: {&#34;type&#34;: &#34;CX&#34;}}, {&#34;args&#34;: [[&#34;anc&#34;, [0]], [&#34;syndrome&#34;, [0]]], &#34;op&#34;: {&#34;type&#34;: &#34;Measure&#34;}}, {&#34;args&#34;: [[&#34;data&#34;, [1]], [&#34;anc&#34;, [1]]], &#34;op&#34;: {&#34;type&#34;: &#34;CX&#34;}}, {&#34;args&#34;: [[&#34;anc&#34;, [0]]], &#34;op&#34;: {&#34;type&#34;: &#34;Reset&#34;}}, {&#34;args&#34;: [[&#34;data&#34;, [2]], [&#34;anc&#34;, [1]]], &#34;op&#34;: {&#34;type&#34;: &#34;CX&#34;}}, {&#34;args&#34;: [[&#34;anc&#34;, [1]], [&#34;syndrome&#34;, [1]]], &#34;op&#34;: {&#34;type&#34;: &#34;Measure&#34;}}, {&#34;args&#34;: [[&#34;anc&#34;, [1]]], &#34;op&#34;: {&#34;type&#34;: &#34;Reset&#34;}}, {&#34;args&#34;: [[&#34;syndrome&#34;, [0]], [&#34;syndrome&#34;, [1]], [&#34;tk_SCRATCH_BIT&#34;, [0]]], &#34;op&#34;: {&#34;classical&#34;: {&#34;lower&#34;: 1, &#34;n_i&#34;: 2, &#34;upper&#34;: 1}, &#34;type&#34;: &#34;RangePredicate&#34;}}, {&#34;args&#34;: [[&#34;syndrome&#34;, [0]], [&#34;syndrome&#34;, [1]], [&#34;tk_SCRATCH_BIT&#34;, [1]]], &#34;op&#34;: {&#34;classical&#34;: {&#34;lower&#34;: 3, &#34;n_i&#34;: 2, &#34;upper&#34;: 3}, &#34;type&#34;: &#34;RangePredicate&#34;}}, {&#34;args&#34;: [[&#34;syndrome&#34;, [0]], [&#34;syndrome&#34;, [1]], [&#34;tk_SCRATCH_BIT&#34;, [2]]], &#34;op&#34;: {&#34;classical&#34;: {&#34;lower&#34;: 2, &#34;n_i&#34;: 2, &#34;upper&#34;: 2}, &#34;type&#34;: &#34;RangePredicate&#34;}}, {&#34;args&#34;: [[&#34;tk_SCRATCH_BIT&#34;, [0]], [&#34;data&#34;, [0]]], &#34;op&#34;: {&#34;conditional&#34;: {&#34;op&#34;: {&#34;type&#34;: &#34;X&#34;}, &#34;value&#34;: 1, &#34;width&#34;: 1}, &#34;type&#34;: &#34;Conditional&#34;}}, {&#34;args&#34;: [[&#34;tk_SCRATCH_BIT&#34;, [1]], [&#34;data&#34;, [1]]], &#34;op&#34;: {&#34;conditional&#34;: {&#34;op&#34;: {&#34;type&#34;: &#34;X&#34;}, &#34;value&#34;: 1, &#34;width&#34;: 1}, &#34;type&#34;: &#34;Conditional&#34;}}, {&#34;args&#34;: [[&#34;tk_SCRATCH_BIT&#34;, [2]], [&#34;data&#34;, [2]]], &#34;op&#34;: {&#34;conditional&#34;: {&#34;op&#34;: {&#34;type&#34;: &#34;X&#34;}, &#34;value&#34;: 1, &#34;width&#34;: 1}, &#34;type&#34;: &#34;Conditional&#34;}}, {&#34;args&#34;: [[&#34;data&#34;, [0]], [&#34;output&#34;, [0]]], &#34;op&#34;: {&#34;type&#34;: &#34;Measure&#34;}}, {&#34;args&#34;: [[&#34;data&#34;, [1]], [&#34;output&#34;, [1]]], &#34;op&#34;: {&#34;type&#34;: &#34;Measure&#34;}}, {&#34;args&#34;: [[&#34;data&#34;, [2]], [&#34;output&#34;, [2]]], &#34;op&#34;: {&#34;type&#34;: &#34;Measure&#34;}}], &#34;created_qubits&#34;: [], &#34;discarded_qubits&#34;: [], &#34;implicit_permutation&#34;: [[[&#34;anc&#34;, [0]], [&#34;anc&#34;, [0]]], [[&#34;anc&#34;, [1]], [&#34;anc&#34;, [1]]], [[&#34;data&#34;, [0]], [&#34;data&#34;, [0]]], [[&#34;data&#34;, [1]], [&#34;data&#34;, [1]]], [[&#34;data&#34;, [2]], [&#34;data&#34;, [2]]]], &#34;name&#34;: &#34;Repetition Code&#34;, &#34;phase&#34;: &#34;0.0&#34;, &#34;qubits&#34;: [[&#34;anc&#34;, [0]], [&#34;anc&#34;, [1]], [&#34;data&#34;, [0]], [&#34;data&#34;, [1]], [&#34;data&#34;, [2]]]}&lt;/div&gt;\n",
       "        &lt;/div&gt;\n",
       "        &lt;circuit-display-container\n",
       "                :circuit-element-str=&#34;&#39;#circuit-json-to-display&#39;&#34;\n",
       "                :init-render-options=&#34;initRenderOptions&#34;\n",
       "        &gt;&lt;/circuit-display-container&gt;\n",
       "    &lt;/div&gt;\n",
       "    &lt;script type=&#34;application/javascript&#34;&gt;\n",
       "      const circuitRendererUid = &#34;b1902ea7-14bc-4397-a387-0d6c1ac4b034&#34;;\n",
       "      const displayOptions = JSON.parse(&#39;{}&#39;);\n",
       "\n",
       "      // Script to initialise the circuit renderer app\n",
       "\n",
       "const { createApp } = Vue;\n",
       "const circuitDisplayContainer = window[&#34;pytket-circuit-renderer&#34;].default;\n",
       "// Init variables to be shared between circuit display instances\n",
       "if (typeof window.pytketCircuitDisplays === &#34;undefined&#34;) {\n",
       "    window.pytketCircuitDisplays = {};\n",
       "}\n",
       "// Create the root Vue component\n",
       "const app = createApp({\n",
       "    delimiters: [&#39;[[#&#39;, &#39;#]]&#39;],\n",
       "    components: { circuitDisplayContainer },\n",
       "    data () {\n",
       "      return {\n",
       "        initRenderOptions: displayOptions,\n",
       "      }\n",
       "    }\n",
       "})\n",
       "app.config.unwrapInjectedRef = true;\n",
       "app.mount(&#34;#circuit-display-vue-container-&#34;+circuitRendererUid);\n",
       "window.pytketCircuitDisplays[circuitRendererUid] = app;\n",
       "    &lt;/script&gt;\n",
       "\n",
       "\n",
       "\n",
       "&lt;/body&gt;\n",
       "&lt;/html&gt;\n",
       "\"\n",
       "            width=\"100%\" height=\"100%\"\n",
       "            style=\"border: none; outline: none; overflow: auto\"></iframe>\n",
       "</div>\n",
       "\n"
      ],
      "text/plain": [
       "<IPython.core.display.HTML object>"
      ]
     },
     "metadata": {},
     "output_type": "display_data"
    }
   ],
   "source": [
    "circuit.Measure(data[0], output[0])\n",
    "circuit.Measure(data[1], output[1])\n",
    "circuit.Measure(data[2], output[2])\n",
    "\n",
    "render_circuit_jupyter(circuit)"
   ]
  },
  {
   "cell_type": "code",
   "execution_count": 6,
   "id": "648d8311-685b-4461-93fd-1ac336ffc9b5",
   "metadata": {},
   "outputs": [],
   "source": [
    "def pytket_rep_code_3(T: int, correction: bool, add_error: bool) -> Circuit:\n",
    "    # Set up Repetition Code with mid-circuit measurement and corrections\n",
    "    circuit = Circuit(name=\"Repetition Code\")\n",
    "    # Add qubit register, the data qubits\n",
    "    data = circuit.add_q_register(\"data\", 3)\n",
    "    # Add qubit register, the ancilla qubit\n",
    "    ancilla = circuit.add_q_register(\"anc\", 2)\n",
    "    # Add classical registers for the syndromes\n",
    "    syndrome = circuit.add_c_register(\"syndrome\", 2)\n",
    "    # Add classical registers for the output\n",
    "    output = circuit.add_c_register(\"output\", 3)\n",
    "    \n",
    "    # encoding\n",
    "    circuit.CX(data[0], data[1]).CX(data[0], data[2])\n",
    "    circuit.add_barrier(circuit.qubits)\n",
    "\n",
    "    # add a bitflip error\n",
    "    if add_error:\n",
    "        circuit.X(data[2]) \n",
    "\n",
    "    #Repeat the rounds of syndrome extraction T times\n",
    "    for _ in range(T):\n",
    "        # Syndrome Extraction\n",
    "        circuit.CX(data[0], ancilla[0])\n",
    "        circuit.CX(data[1], ancilla[0])\n",
    "        circuit.Measure(ancilla[0], syndrome[0])\n",
    "        circuit.add_gate(OpType.Reset, [ancilla[0]])\n",
    "        # Syndrome Extraction\n",
    "        circuit.CX(data[1], ancilla[1])\n",
    "        circuit.CX(data[2], ancilla[1])\n",
    "        circuit.Measure(ancilla[1], syndrome[1])\n",
    "        circuit.add_gate(OpType.Reset, [ancilla[1]])\n",
    "        if correction:\n",
    "            # Correction\n",
    "            circuit.X(data[0], condition=reg_eq(syndrome, 1))\n",
    "            circuit.X(data[1], condition=reg_eq(syndrome, 3))\n",
    "            circuit.X(data[2], condition=reg_eq(syndrome, 2))\n",
    "            \n",
    "    # Measure out data qubits\n",
    "    circuit.Measure(data[0], output[0])\n",
    "    circuit.Measure(data[1], output[1])\n",
    "    circuit.Measure(data[2], output[2])\n",
    "    return circuit"
   ]
  },
  {
   "cell_type": "code",
   "execution_count": 7,
   "id": "6fb3bc1b-5f75-401a-8918-06fd96c2f932",
   "metadata": {},
   "outputs": [
    {
     "data": {
      "text/html": [
       "\n",
       "\n",
       "\n",
       "\n",
       "\n",
       "\n",
       "<div style=\"resize: vertical; overflow: auto; height: 400px; display: block\">\n",
       "    <iframe srcdoc=\"\n",
       "&lt;!DOCTYPE html&gt;\n",
       "&lt;html lang=&#34;en&#34;&gt;\n",
       "&lt;head&gt;\n",
       "    &lt;meta charset=&#34;UTF-8&#34;&gt;\n",
       "    &lt;!-- Download Vue 3--&gt;\n",
       "&lt;script type=&#34;application/javascript&#34; src=&#34;https://cdn.jsdelivr.net/npm/vue@3&#34;&gt;&lt;/script&gt;\n",
       "&lt;!-- Download Circuit Renderer with styles --&gt;\n",
       "&lt;script type=&#34;application/javascript&#34; src=&#34;https://unpkg.com/pytket-circuit-renderer@0.6/dist/pytket-circuit-renderer.umd.js&#34;&gt;&lt;/script&gt;\n",
       "&lt;link rel=&#34;stylesheet&#34; href=&#34;https://unpkg.com/pytket-circuit-renderer@0.6/dist/pytket-circuit-renderer.css&#34;&gt;\n",
       "&lt;/head&gt;\n",
       "&lt;body&gt;\n",
       "\n",
       "\n",
       "\n",
       "    &lt;div id=&#34;circuit-display-vue-container-f6117b90-c8d7-4f77-9f8f-ada64e2e27f4&#34; class=&#34;pytket-circuit-display-container&#34;&gt;\n",
       "        &lt;div style=&#34;display: none&#34;&gt;\n",
       "            &lt;div id=&#34;circuit-json-to-display&#34;&gt;{&#34;bits&#34;: [[&#34;output&#34;, [0]], [&#34;output&#34;, [1]], [&#34;output&#34;, [2]], [&#34;syndrome&#34;, [0]], [&#34;syndrome&#34;, [1]], [&#34;tk_SCRATCH_BIT&#34;, [0]], [&#34;tk_SCRATCH_BIT&#34;, [1]], [&#34;tk_SCRATCH_BIT&#34;, [2]], [&#34;tk_SCRATCH_BIT&#34;, [3]], [&#34;tk_SCRATCH_BIT&#34;, [4]], [&#34;tk_SCRATCH_BIT&#34;, [5]], [&#34;tk_SCRATCH_BIT&#34;, [6]], [&#34;tk_SCRATCH_BIT&#34;, [7]], [&#34;tk_SCRATCH_BIT&#34;, [8]]], &#34;commands&#34;: [{&#34;args&#34;: [[&#34;data&#34;, [0]], [&#34;data&#34;, [1]]], &#34;op&#34;: {&#34;type&#34;: &#34;CX&#34;}}, {&#34;args&#34;: [[&#34;data&#34;, [0]], [&#34;data&#34;, [2]]], &#34;op&#34;: {&#34;type&#34;: &#34;CX&#34;}}, {&#34;args&#34;: [[&#34;anc&#34;, [0]], [&#34;anc&#34;, [1]], [&#34;data&#34;, [0]], [&#34;data&#34;, [1]], [&#34;data&#34;, [2]]], &#34;op&#34;: {&#34;data&#34;: &#34;&#34;, &#34;signature&#34;: [&#34;Q&#34;, &#34;Q&#34;, &#34;Q&#34;, &#34;Q&#34;, &#34;Q&#34;], &#34;type&#34;: &#34;Barrier&#34;}}, {&#34;args&#34;: [[&#34;data&#34;, [0]], [&#34;anc&#34;, [0]]], &#34;op&#34;: {&#34;type&#34;: &#34;CX&#34;}}, {&#34;args&#34;: [[&#34;data&#34;, [1]], [&#34;anc&#34;, [0]]], &#34;op&#34;: {&#34;type&#34;: &#34;CX&#34;}}, {&#34;args&#34;: [[&#34;anc&#34;, [0]], [&#34;syndrome&#34;, [0]]], &#34;op&#34;: {&#34;type&#34;: &#34;Measure&#34;}}, {&#34;args&#34;: [[&#34;data&#34;, [1]], [&#34;anc&#34;, [1]]], &#34;op&#34;: {&#34;type&#34;: &#34;CX&#34;}}, {&#34;args&#34;: [[&#34;anc&#34;, [0]]], &#34;op&#34;: {&#34;type&#34;: &#34;Reset&#34;}}, {&#34;args&#34;: [[&#34;data&#34;, [2]], [&#34;anc&#34;, [1]]], &#34;op&#34;: {&#34;type&#34;: &#34;CX&#34;}}, {&#34;args&#34;: [[&#34;anc&#34;, [1]], [&#34;syndrome&#34;, [1]]], &#34;op&#34;: {&#34;type&#34;: &#34;Measure&#34;}}, {&#34;args&#34;: [[&#34;anc&#34;, [1]]], &#34;op&#34;: {&#34;type&#34;: &#34;Reset&#34;}}, {&#34;args&#34;: [[&#34;syndrome&#34;, [0]], [&#34;syndrome&#34;, [1]], [&#34;tk_SCRATCH_BIT&#34;, [0]]], &#34;op&#34;: {&#34;classical&#34;: {&#34;lower&#34;: 1, &#34;n_i&#34;: 2, &#34;upper&#34;: 1}, &#34;type&#34;: &#34;RangePredicate&#34;}}, {&#34;args&#34;: [[&#34;syndrome&#34;, [0]], [&#34;syndrome&#34;, [1]], [&#34;tk_SCRATCH_BIT&#34;, [1]]], &#34;op&#34;: {&#34;classical&#34;: {&#34;lower&#34;: 3, &#34;n_i&#34;: 2, &#34;upper&#34;: 3}, &#34;type&#34;: &#34;RangePredicate&#34;}}, {&#34;args&#34;: [[&#34;syndrome&#34;, [0]], [&#34;syndrome&#34;, [1]], [&#34;tk_SCRATCH_BIT&#34;, [2]]], &#34;op&#34;: {&#34;classical&#34;: {&#34;lower&#34;: 2, &#34;n_i&#34;: 2, &#34;upper&#34;: 2}, &#34;type&#34;: &#34;RangePredicate&#34;}}, {&#34;args&#34;: [[&#34;tk_SCRATCH_BIT&#34;, [0]], [&#34;data&#34;, [0]]], &#34;op&#34;: {&#34;conditional&#34;: {&#34;op&#34;: {&#34;type&#34;: &#34;X&#34;}, &#34;value&#34;: 1, &#34;width&#34;: 1}, &#34;type&#34;: &#34;Conditional&#34;}}, {&#34;args&#34;: [[&#34;tk_SCRATCH_BIT&#34;, [1]], [&#34;data&#34;, [1]]], &#34;op&#34;: {&#34;conditional&#34;: {&#34;op&#34;: {&#34;type&#34;: &#34;X&#34;}, &#34;value&#34;: 1, &#34;width&#34;: 1}, &#34;type&#34;: &#34;Conditional&#34;}}, {&#34;args&#34;: [[&#34;tk_SCRATCH_BIT&#34;, [2]], [&#34;data&#34;, [2]]], &#34;op&#34;: {&#34;conditional&#34;: {&#34;op&#34;: {&#34;type&#34;: &#34;X&#34;}, &#34;value&#34;: 1, &#34;width&#34;: 1}, &#34;type&#34;: &#34;Conditional&#34;}}, {&#34;args&#34;: [[&#34;data&#34;, [0]], [&#34;anc&#34;, [0]]], &#34;op&#34;: {&#34;type&#34;: &#34;CX&#34;}}, {&#34;args&#34;: [[&#34;data&#34;, [1]], [&#34;anc&#34;, [0]]], &#34;op&#34;: {&#34;type&#34;: &#34;CX&#34;}}, {&#34;args&#34;: [[&#34;anc&#34;, [0]], [&#34;syndrome&#34;, [0]]], &#34;op&#34;: {&#34;type&#34;: &#34;Measure&#34;}}, {&#34;args&#34;: [[&#34;data&#34;, [1]], [&#34;anc&#34;, [1]]], &#34;op&#34;: {&#34;type&#34;: &#34;CX&#34;}}, {&#34;args&#34;: [[&#34;anc&#34;, [0]]], &#34;op&#34;: {&#34;type&#34;: &#34;Reset&#34;}}, {&#34;args&#34;: [[&#34;data&#34;, [2]], [&#34;anc&#34;, [1]]], &#34;op&#34;: {&#34;type&#34;: &#34;CX&#34;}}, {&#34;args&#34;: [[&#34;anc&#34;, [1]], [&#34;syndrome&#34;, [1]]], &#34;op&#34;: {&#34;type&#34;: &#34;Measure&#34;}}, {&#34;args&#34;: [[&#34;anc&#34;, [1]]], &#34;op&#34;: {&#34;type&#34;: &#34;Reset&#34;}}, {&#34;args&#34;: [[&#34;syndrome&#34;, [0]], [&#34;syndrome&#34;, [1]], [&#34;tk_SCRATCH_BIT&#34;, [3]]], &#34;op&#34;: {&#34;classical&#34;: {&#34;lower&#34;: 1, &#34;n_i&#34;: 2, &#34;upper&#34;: 1}, &#34;type&#34;: &#34;RangePredicate&#34;}}, {&#34;args&#34;: [[&#34;syndrome&#34;, [0]], [&#34;syndrome&#34;, [1]], [&#34;tk_SCRATCH_BIT&#34;, [4]]], &#34;op&#34;: {&#34;classical&#34;: {&#34;lower&#34;: 3, &#34;n_i&#34;: 2, &#34;upper&#34;: 3}, &#34;type&#34;: &#34;RangePredicate&#34;}}, {&#34;args&#34;: [[&#34;syndrome&#34;, [0]], [&#34;syndrome&#34;, [1]], [&#34;tk_SCRATCH_BIT&#34;, [5]]], &#34;op&#34;: {&#34;classical&#34;: {&#34;lower&#34;: 2, &#34;n_i&#34;: 2, &#34;upper&#34;: 2}, &#34;type&#34;: &#34;RangePredicate&#34;}}, {&#34;args&#34;: [[&#34;tk_SCRATCH_BIT&#34;, [3]], [&#34;data&#34;, [0]]], &#34;op&#34;: {&#34;conditional&#34;: {&#34;op&#34;: {&#34;type&#34;: &#34;X&#34;}, &#34;value&#34;: 1, &#34;width&#34;: 1}, &#34;type&#34;: &#34;Conditional&#34;}}, {&#34;args&#34;: [[&#34;tk_SCRATCH_BIT&#34;, [4]], [&#34;data&#34;, [1]]], &#34;op&#34;: {&#34;conditional&#34;: {&#34;op&#34;: {&#34;type&#34;: &#34;X&#34;}, &#34;value&#34;: 1, &#34;width&#34;: 1}, &#34;type&#34;: &#34;Conditional&#34;}}, {&#34;args&#34;: [[&#34;tk_SCRATCH_BIT&#34;, [5]], [&#34;data&#34;, [2]]], &#34;op&#34;: {&#34;conditional&#34;: {&#34;op&#34;: {&#34;type&#34;: &#34;X&#34;}, &#34;value&#34;: 1, &#34;width&#34;: 1}, &#34;type&#34;: &#34;Conditional&#34;}}, {&#34;args&#34;: [[&#34;data&#34;, [0]], [&#34;anc&#34;, [0]]], &#34;op&#34;: {&#34;type&#34;: &#34;CX&#34;}}, {&#34;args&#34;: [[&#34;data&#34;, [1]], [&#34;anc&#34;, [0]]], &#34;op&#34;: {&#34;type&#34;: &#34;CX&#34;}}, {&#34;args&#34;: [[&#34;anc&#34;, [0]], [&#34;syndrome&#34;, [0]]], &#34;op&#34;: {&#34;type&#34;: &#34;Measure&#34;}}, {&#34;args&#34;: [[&#34;data&#34;, [1]], [&#34;anc&#34;, [1]]], &#34;op&#34;: {&#34;type&#34;: &#34;CX&#34;}}, {&#34;args&#34;: [[&#34;anc&#34;, [0]]], &#34;op&#34;: {&#34;type&#34;: &#34;Reset&#34;}}, {&#34;args&#34;: [[&#34;data&#34;, [2]], [&#34;anc&#34;, [1]]], &#34;op&#34;: {&#34;type&#34;: &#34;CX&#34;}}, {&#34;args&#34;: [[&#34;anc&#34;, [1]], [&#34;syndrome&#34;, [1]]], &#34;op&#34;: {&#34;type&#34;: &#34;Measure&#34;}}, {&#34;args&#34;: [[&#34;anc&#34;, [1]]], &#34;op&#34;: {&#34;type&#34;: &#34;Reset&#34;}}, {&#34;args&#34;: [[&#34;syndrome&#34;, [0]], [&#34;syndrome&#34;, [1]], [&#34;tk_SCRATCH_BIT&#34;, [6]]], &#34;op&#34;: {&#34;classical&#34;: {&#34;lower&#34;: 1, &#34;n_i&#34;: 2, &#34;upper&#34;: 1}, &#34;type&#34;: &#34;RangePredicate&#34;}}, {&#34;args&#34;: [[&#34;syndrome&#34;, [0]], [&#34;syndrome&#34;, [1]], [&#34;tk_SCRATCH_BIT&#34;, [7]]], &#34;op&#34;: {&#34;classical&#34;: {&#34;lower&#34;: 3, &#34;n_i&#34;: 2, &#34;upper&#34;: 3}, &#34;type&#34;: &#34;RangePredicate&#34;}}, {&#34;args&#34;: [[&#34;syndrome&#34;, [0]], [&#34;syndrome&#34;, [1]], [&#34;tk_SCRATCH_BIT&#34;, [8]]], &#34;op&#34;: {&#34;classical&#34;: {&#34;lower&#34;: 2, &#34;n_i&#34;: 2, &#34;upper&#34;: 2}, &#34;type&#34;: &#34;RangePredicate&#34;}}, {&#34;args&#34;: [[&#34;tk_SCRATCH_BIT&#34;, [6]], [&#34;data&#34;, [0]]], &#34;op&#34;: {&#34;conditional&#34;: {&#34;op&#34;: {&#34;type&#34;: &#34;X&#34;}, &#34;value&#34;: 1, &#34;width&#34;: 1}, &#34;type&#34;: &#34;Conditional&#34;}}, {&#34;args&#34;: [[&#34;tk_SCRATCH_BIT&#34;, [7]], [&#34;data&#34;, [1]]], &#34;op&#34;: {&#34;conditional&#34;: {&#34;op&#34;: {&#34;type&#34;: &#34;X&#34;}, &#34;value&#34;: 1, &#34;width&#34;: 1}, &#34;type&#34;: &#34;Conditional&#34;}}, {&#34;args&#34;: [[&#34;tk_SCRATCH_BIT&#34;, [8]], [&#34;data&#34;, [2]]], &#34;op&#34;: {&#34;conditional&#34;: {&#34;op&#34;: {&#34;type&#34;: &#34;X&#34;}, &#34;value&#34;: 1, &#34;width&#34;: 1}, &#34;type&#34;: &#34;Conditional&#34;}}, {&#34;args&#34;: [[&#34;data&#34;, [0]], [&#34;output&#34;, [0]]], &#34;op&#34;: {&#34;type&#34;: &#34;Measure&#34;}}, {&#34;args&#34;: [[&#34;data&#34;, [1]], [&#34;output&#34;, [1]]], &#34;op&#34;: {&#34;type&#34;: &#34;Measure&#34;}}, {&#34;args&#34;: [[&#34;data&#34;, [2]], [&#34;output&#34;, [2]]], &#34;op&#34;: {&#34;type&#34;: &#34;Measure&#34;}}], &#34;created_qubits&#34;: [], &#34;discarded_qubits&#34;: [], &#34;implicit_permutation&#34;: [[[&#34;anc&#34;, [0]], [&#34;anc&#34;, [0]]], [[&#34;anc&#34;, [1]], [&#34;anc&#34;, [1]]], [[&#34;data&#34;, [0]], [&#34;data&#34;, [0]]], [[&#34;data&#34;, [1]], [&#34;data&#34;, [1]]], [[&#34;data&#34;, [2]], [&#34;data&#34;, [2]]]], &#34;name&#34;: &#34;Repetition Code&#34;, &#34;phase&#34;: &#34;0.0&#34;, &#34;qubits&#34;: [[&#34;anc&#34;, [0]], [&#34;anc&#34;, [1]], [&#34;data&#34;, [0]], [&#34;data&#34;, [1]], [&#34;data&#34;, [2]]]}&lt;/div&gt;\n",
       "        &lt;/div&gt;\n",
       "        &lt;circuit-display-container\n",
       "                :circuit-element-str=&#34;&#39;#circuit-json-to-display&#39;&#34;\n",
       "                :init-render-options=&#34;initRenderOptions&#34;\n",
       "        &gt;&lt;/circuit-display-container&gt;\n",
       "    &lt;/div&gt;\n",
       "    &lt;script type=&#34;application/javascript&#34;&gt;\n",
       "      const circuitRendererUid = &#34;f6117b90-c8d7-4f77-9f8f-ada64e2e27f4&#34;;\n",
       "      const displayOptions = JSON.parse(&#39;{}&#39;);\n",
       "\n",
       "      // Script to initialise the circuit renderer app\n",
       "\n",
       "const { createApp } = Vue;\n",
       "const circuitDisplayContainer = window[&#34;pytket-circuit-renderer&#34;].default;\n",
       "// Init variables to be shared between circuit display instances\n",
       "if (typeof window.pytketCircuitDisplays === &#34;undefined&#34;) {\n",
       "    window.pytketCircuitDisplays = {};\n",
       "}\n",
       "// Create the root Vue component\n",
       "const app = createApp({\n",
       "    delimiters: [&#39;[[#&#39;, &#39;#]]&#39;],\n",
       "    components: { circuitDisplayContainer },\n",
       "    data () {\n",
       "      return {\n",
       "        initRenderOptions: displayOptions,\n",
       "      }\n",
       "    }\n",
       "})\n",
       "app.config.unwrapInjectedRef = true;\n",
       "app.mount(&#34;#circuit-display-vue-container-&#34;+circuitRendererUid);\n",
       "window.pytketCircuitDisplays[circuitRendererUid] = app;\n",
       "    &lt;/script&gt;\n",
       "\n",
       "\n",
       "\n",
       "&lt;/body&gt;\n",
       "&lt;/html&gt;\n",
       "\"\n",
       "            width=\"100%\" height=\"100%\"\n",
       "            style=\"border: none; outline: none; overflow: auto\"></iframe>\n",
       "</div>\n",
       "\n"
      ],
      "text/plain": [
       "<IPython.core.display.HTML object>"
      ]
     },
     "metadata": {},
     "output_type": "display_data"
    },
    {
     "data": {
      "text/plain": [
       "Counter({<OpType.CX: 42>: 14,\n",
       "         <OpType.Measure: 61>: 9,\n",
       "         <OpType.RangePredicate: 17>: 9,\n",
       "         <OpType.Conditional: 102>: 9,\n",
       "         <OpType.Reset: 63>: 6,\n",
       "         <OpType.Barrier: 8>: 1})"
      ]
     },
     "execution_count": 7,
     "metadata": {},
     "output_type": "execute_result"
    }
   ],
   "source": [
    "from pytket.utils.stats import gate_counts\n",
    "\n",
    "dist_three_circuit_no_error = pytket_rep_code_3(T=3, correction=True, add_error=False)\n",
    "\n",
    "render_circuit_jupyter(dist_three_circuit_no_error)\n",
    "\n",
    "gate_counts(dist_three_circuit_no_error)"
   ]
  },
  {
   "cell_type": "code",
   "execution_count": 8,
   "id": "ac045284-ab7f-49c0-96c5-fb15f5c0016e",
   "metadata": {},
   "outputs": [],
   "source": [
    "from pytket.extensions.quantinuum import QuantinuumBackend"
   ]
  },
  {
   "cell_type": "code",
   "execution_count": 9,
   "id": "63621ede-d129-4045-bbf3-b28dc054b09c",
   "metadata": {},
   "outputs": [
    {
     "name": "stdin",
     "output_type": "stream",
     "text": [
      "Enter your Quantinuum email:  callum.macpherson@quantinuum.com\n",
      "Enter your Quantinuum password:  ········\n"
     ]
    }
   ],
   "source": [
    "backend = QuantinuumBackend(\"H1-1E\")\n",
    "\n",
    "backend.login()"
   ]
  },
  {
   "cell_type": "code",
   "execution_count": 10,
   "id": "4fe9ba3b-d8a7-4768-bf0b-df6591911b0c",
   "metadata": {},
   "outputs": [],
   "source": [
    "compiled_circuit1 = backend.get_compiled_circuit(dist_three_circuit_no_error, optimisation_level=0)"
   ]
  },
  {
   "cell_type": "code",
   "execution_count": 11,
   "id": "b42da91e-5537-4ddd-87e0-4026f747ab6c",
   "metadata": {},
   "outputs": [
    {
     "data": {
      "text/plain": [
       "True"
      ]
     },
     "execution_count": 11,
     "metadata": {},
     "output_type": "execute_result"
    }
   ],
   "source": [
    "# Is our circuit valid?\n",
    "backend.valid_circuit(compiled_circuit1)"
   ]
  },
  {
   "cell_type": "code",
   "execution_count": 12,
   "id": "d1a39fe5-f0a2-40de-aef0-689659fe7e12",
   "metadata": {},
   "outputs": [
    {
     "data": {
      "text/html": [
       "\n",
       "\n",
       "\n",
       "\n",
       "\n",
       "\n",
       "<div style=\"resize: vertical; overflow: auto; height: 400px; display: block\">\n",
       "    <iframe srcdoc=\"\n",
       "&lt;!DOCTYPE html&gt;\n",
       "&lt;html lang=&#34;en&#34;&gt;\n",
       "&lt;head&gt;\n",
       "    &lt;meta charset=&#34;UTF-8&#34;&gt;\n",
       "    &lt;!-- Download Vue 3--&gt;\n",
       "&lt;script type=&#34;application/javascript&#34; src=&#34;https://cdn.jsdelivr.net/npm/vue@3&#34;&gt;&lt;/script&gt;\n",
       "&lt;!-- Download Circuit Renderer with styles --&gt;\n",
       "&lt;script type=&#34;application/javascript&#34; src=&#34;https://unpkg.com/pytket-circuit-renderer@0.6/dist/pytket-circuit-renderer.umd.js&#34;&gt;&lt;/script&gt;\n",
       "&lt;link rel=&#34;stylesheet&#34; href=&#34;https://unpkg.com/pytket-circuit-renderer@0.6/dist/pytket-circuit-renderer.css&#34;&gt;\n",
       "&lt;/head&gt;\n",
       "&lt;body&gt;\n",
       "\n",
       "\n",
       "\n",
       "    &lt;div id=&#34;circuit-display-vue-container-800211c3-82f3-42c7-bded-55595dd18603&#34; class=&#34;pytket-circuit-display-container&#34;&gt;\n",
       "        &lt;div style=&#34;display: none&#34;&gt;\n",
       "            &lt;div id=&#34;circuit-json-to-display&#34;&gt;{&#34;bits&#34;: [[&#34;output&#34;, [0]], [&#34;output&#34;, [1]], [&#34;output&#34;, [2]], [&#34;syndrome&#34;, [0]], [&#34;syndrome&#34;, [1]], [&#34;tk_SCRATCH_BIT&#34;, [0]], [&#34;tk_SCRATCH_BIT&#34;, [1]], [&#34;tk_SCRATCH_BIT&#34;, [2]], [&#34;tk_SCRATCH_BIT&#34;, [3]], [&#34;tk_SCRATCH_BIT&#34;, [4]], [&#34;tk_SCRATCH_BIT&#34;, [5]], [&#34;tk_SCRATCH_BIT&#34;, [6]], [&#34;tk_SCRATCH_BIT&#34;, [7]], [&#34;tk_SCRATCH_BIT&#34;, [8]]], &#34;commands&#34;: [{&#34;args&#34;: [[&#34;q&#34;, [2]]], &#34;op&#34;: {&#34;params&#34;: [&#34;1&#34;], &#34;type&#34;: &#34;Rz&#34;}}, {&#34;args&#34;: [[&#34;q&#34;, [3]]], &#34;op&#34;: {&#34;params&#34;: [&#34;1&#34;], &#34;type&#34;: &#34;Rz&#34;}}, {&#34;args&#34;: [[&#34;q&#34;, [4]]], &#34;op&#34;: {&#34;params&#34;: [&#34;1&#34;], &#34;type&#34;: &#34;Rz&#34;}}, {&#34;args&#34;: [[&#34;q&#34;, [3]]], &#34;op&#34;: {&#34;params&#34;: [&#34;1.5&#34;, &#34;1/2&#34;], &#34;type&#34;: &#34;PhasedX&#34;}}, {&#34;args&#34;: [[&#34;q&#34;, [4]]], &#34;op&#34;: {&#34;params&#34;: [&#34;1.5&#34;, &#34;1/2&#34;], &#34;type&#34;: &#34;PhasedX&#34;}}, {&#34;args&#34;: [[&#34;q&#34;, [2]], [&#34;q&#34;, [3]]], &#34;op&#34;: {&#34;params&#34;: [&#34;0.5&#34;], &#34;type&#34;: &#34;ZZPhase&#34;}}, {&#34;args&#34;: [[&#34;q&#34;, [2]]], &#34;op&#34;: {&#34;params&#34;: [&#34;3/2&#34;], &#34;type&#34;: &#34;Rz&#34;}}, {&#34;args&#34;: [[&#34;q&#34;, [3]]], &#34;op&#34;: {&#34;params&#34;: [&#34;1/2&#34;], &#34;type&#34;: &#34;Rz&#34;}}, {&#34;args&#34;: [[&#34;q&#34;, [2]]], &#34;op&#34;: {&#34;params&#34;: [&#34;1&#34;], &#34;type&#34;: &#34;Rz&#34;}}, {&#34;args&#34;: [[&#34;q&#34;, [3]]], &#34;op&#34;: {&#34;params&#34;: [&#34;1.5&#34;, &#34;1/2&#34;], &#34;type&#34;: &#34;PhasedX&#34;}}, {&#34;args&#34;: [[&#34;q&#34;, [2]], [&#34;q&#34;, [4]]], &#34;op&#34;: {&#34;params&#34;: [&#34;0.5&#34;], &#34;type&#34;: &#34;ZZPhase&#34;}}, {&#34;args&#34;: [[&#34;q&#34;, [2]]], &#34;op&#34;: {&#34;params&#34;: [&#34;3/2&#34;], &#34;type&#34;: &#34;Rz&#34;}}, {&#34;args&#34;: [[&#34;q&#34;, [4]]], &#34;op&#34;: {&#34;params&#34;: [&#34;1/2&#34;], &#34;type&#34;: &#34;Rz&#34;}}, {&#34;args&#34;: [[&#34;q&#34;, [4]]], &#34;op&#34;: {&#34;params&#34;: [&#34;1.5&#34;, &#34;1/2&#34;], &#34;type&#34;: &#34;PhasedX&#34;}}, {&#34;args&#34;: [[&#34;q&#34;, [0]], [&#34;q&#34;, [1]], [&#34;q&#34;, [2]], [&#34;q&#34;, [3]], [&#34;q&#34;, [4]]], &#34;op&#34;: {&#34;data&#34;: &#34;&#34;, &#34;signature&#34;: [&#34;Q&#34;, &#34;Q&#34;, &#34;Q&#34;, &#34;Q&#34;, &#34;Q&#34;], &#34;type&#34;: &#34;Barrier&#34;}}, {&#34;args&#34;: [[&#34;q&#34;, [0]]], &#34;op&#34;: {&#34;params&#34;: [&#34;1&#34;], &#34;type&#34;: &#34;Rz&#34;}}, {&#34;args&#34;: [[&#34;q&#34;, [1]]], &#34;op&#34;: {&#34;params&#34;: [&#34;1&#34;], &#34;type&#34;: &#34;Rz&#34;}}, {&#34;args&#34;: [[&#34;q&#34;, [2]]], &#34;op&#34;: {&#34;params&#34;: [&#34;1&#34;], &#34;type&#34;: &#34;Rz&#34;}}, {&#34;args&#34;: [[&#34;q&#34;, [3]]], &#34;op&#34;: {&#34;params&#34;: [&#34;1&#34;], &#34;type&#34;: &#34;Rz&#34;}}, {&#34;args&#34;: [[&#34;q&#34;, [4]]], &#34;op&#34;: {&#34;params&#34;: [&#34;1&#34;], &#34;type&#34;: &#34;Rz&#34;}}, {&#34;args&#34;: [[&#34;q&#34;, [0]]], &#34;op&#34;: {&#34;params&#34;: [&#34;1.5&#34;, &#34;1/2&#34;], &#34;type&#34;: &#34;PhasedX&#34;}}, {&#34;args&#34;: [[&#34;q&#34;, [1]]], &#34;op&#34;: {&#34;params&#34;: [&#34;1.5&#34;, &#34;1/2&#34;], &#34;type&#34;: &#34;PhasedX&#34;}}, {&#34;args&#34;: [[&#34;q&#34;, [2]], [&#34;q&#34;, [0]]], &#34;op&#34;: {&#34;params&#34;: [&#34;0.5&#34;], &#34;type&#34;: &#34;ZZPhase&#34;}}, {&#34;args&#34;: [[&#34;q&#34;, [0]]], &#34;op&#34;: {&#34;params&#34;: [&#34;1/2&#34;], &#34;type&#34;: &#34;Rz&#34;}}, {&#34;args&#34;: [[&#34;q&#34;, [2]]], &#34;op&#34;: {&#34;params&#34;: [&#34;3/2&#34;], &#34;type&#34;: &#34;Rz&#34;}}, {&#34;args&#34;: [[&#34;q&#34;, [0]]], &#34;op&#34;: {&#34;params&#34;: [&#34;1.5&#34;, &#34;1/2&#34;], &#34;type&#34;: &#34;PhasedX&#34;}}, {&#34;args&#34;: [[&#34;q&#34;, [0]]], &#34;op&#34;: {&#34;params&#34;: [&#34;1&#34;], &#34;type&#34;: &#34;Rz&#34;}}, {&#34;args&#34;: [[&#34;q&#34;, [0]]], &#34;op&#34;: {&#34;params&#34;: [&#34;1.5&#34;, &#34;1/2&#34;], &#34;type&#34;: &#34;PhasedX&#34;}}, {&#34;args&#34;: [[&#34;q&#34;, [3]], [&#34;q&#34;, [0]]], &#34;op&#34;: {&#34;params&#34;: [&#34;0.5&#34;], &#34;type&#34;: &#34;ZZPhase&#34;}}, {&#34;args&#34;: [[&#34;q&#34;, [0]]], &#34;op&#34;: {&#34;params&#34;: [&#34;1/2&#34;], &#34;type&#34;: &#34;Rz&#34;}}, {&#34;args&#34;: [[&#34;q&#34;, [3]]], &#34;op&#34;: {&#34;params&#34;: [&#34;3/2&#34;], &#34;type&#34;: &#34;Rz&#34;}}, {&#34;args&#34;: [[&#34;q&#34;, [0]]], &#34;op&#34;: {&#34;params&#34;: [&#34;1.5&#34;, &#34;1/2&#34;], &#34;type&#34;: &#34;PhasedX&#34;}}, {&#34;args&#34;: [[&#34;q&#34;, [3]]], &#34;op&#34;: {&#34;params&#34;: [&#34;1&#34;], &#34;type&#34;: &#34;Rz&#34;}}, {&#34;args&#34;: [[&#34;q&#34;, [0]], [&#34;syndrome&#34;, [0]]], &#34;op&#34;: {&#34;type&#34;: &#34;Measure&#34;}}, {&#34;args&#34;: [[&#34;q&#34;, [3]], [&#34;q&#34;, [1]]], &#34;op&#34;: {&#34;params&#34;: [&#34;0.5&#34;], &#34;type&#34;: &#34;ZZPhase&#34;}}, {&#34;args&#34;: [[&#34;q&#34;, [0]]], &#34;op&#34;: {&#34;type&#34;: &#34;Reset&#34;}}, {&#34;args&#34;: [[&#34;q&#34;, [1]]], &#34;op&#34;: {&#34;params&#34;: [&#34;1/2&#34;], &#34;type&#34;: &#34;Rz&#34;}}, {&#34;args&#34;: [[&#34;q&#34;, [3]]], &#34;op&#34;: {&#34;params&#34;: [&#34;3/2&#34;], &#34;type&#34;: &#34;Rz&#34;}}, {&#34;args&#34;: [[&#34;q&#34;, [0]]], &#34;op&#34;: {&#34;params&#34;: [&#34;1&#34;], &#34;type&#34;: &#34;Rz&#34;}}, {&#34;args&#34;: [[&#34;q&#34;, [1]]], &#34;op&#34;: {&#34;params&#34;: [&#34;1.5&#34;, &#34;1/2&#34;], &#34;type&#34;: &#34;PhasedX&#34;}}, {&#34;args&#34;: [[&#34;q&#34;, [0]]], &#34;op&#34;: {&#34;params&#34;: [&#34;1.5&#34;, &#34;1/2&#34;], &#34;type&#34;: &#34;PhasedX&#34;}}, {&#34;args&#34;: [[&#34;q&#34;, [1]]], &#34;op&#34;: {&#34;params&#34;: [&#34;1&#34;], &#34;type&#34;: &#34;Rz&#34;}}, {&#34;args&#34;: [[&#34;q&#34;, [1]]], &#34;op&#34;: {&#34;params&#34;: [&#34;1.5&#34;, &#34;1/2&#34;], &#34;type&#34;: &#34;PhasedX&#34;}}, {&#34;args&#34;: [[&#34;q&#34;, [4]], [&#34;q&#34;, [1]]], &#34;op&#34;: {&#34;params&#34;: [&#34;0.5&#34;], &#34;type&#34;: &#34;ZZPhase&#34;}}, {&#34;args&#34;: [[&#34;q&#34;, [1]]], &#34;op&#34;: {&#34;params&#34;: [&#34;1/2&#34;], &#34;type&#34;: &#34;Rz&#34;}}, {&#34;args&#34;: [[&#34;q&#34;, [4]]], &#34;op&#34;: {&#34;params&#34;: [&#34;3/2&#34;], &#34;type&#34;: &#34;Rz&#34;}}, {&#34;args&#34;: [[&#34;q&#34;, [1]]], &#34;op&#34;: {&#34;params&#34;: [&#34;1.5&#34;, &#34;1/2&#34;], &#34;type&#34;: &#34;PhasedX&#34;}}, {&#34;args&#34;: [[&#34;q&#34;, [1]], [&#34;syndrome&#34;, [1]]], &#34;op&#34;: {&#34;type&#34;: &#34;Measure&#34;}}, {&#34;args&#34;: [[&#34;q&#34;, [1]]], &#34;op&#34;: {&#34;type&#34;: &#34;Reset&#34;}}, {&#34;args&#34;: [[&#34;syndrome&#34;, [0]], [&#34;syndrome&#34;, [1]], [&#34;tk_SCRATCH_BIT&#34;, [0]]], &#34;op&#34;: {&#34;classical&#34;: {&#34;lower&#34;: 1, &#34;n_i&#34;: 2, &#34;upper&#34;: 1}, &#34;type&#34;: &#34;RangePredicate&#34;}}, {&#34;args&#34;: [[&#34;syndrome&#34;, [0]], [&#34;syndrome&#34;, [1]], [&#34;tk_SCRATCH_BIT&#34;, [1]]], &#34;op&#34;: {&#34;classical&#34;: {&#34;lower&#34;: 3, &#34;n_i&#34;: 2, &#34;upper&#34;: 3}, &#34;type&#34;: &#34;RangePredicate&#34;}}, {&#34;args&#34;: [[&#34;syndrome&#34;, [0]], [&#34;syndrome&#34;, [1]], [&#34;tk_SCRATCH_BIT&#34;, [2]]], &#34;op&#34;: {&#34;classical&#34;: {&#34;lower&#34;: 2, &#34;n_i&#34;: 2, &#34;upper&#34;: 2}, &#34;type&#34;: &#34;RangePredicate&#34;}}, {&#34;args&#34;: [[&#34;q&#34;, [1]]], &#34;op&#34;: {&#34;params&#34;: [&#34;1&#34;], &#34;type&#34;: &#34;Rz&#34;}}, {&#34;args&#34;: [[&#34;tk_SCRATCH_BIT&#34;, [0]], [&#34;q&#34;, [2]]], &#34;op&#34;: {&#34;conditional&#34;: {&#34;op&#34;: {&#34;params&#34;: [&#34;1&#34;, &#34;0&#34;], &#34;type&#34;: &#34;PhasedX&#34;}, &#34;value&#34;: 1, &#34;width&#34;: 1}, &#34;type&#34;: &#34;Conditional&#34;}}, {&#34;args&#34;: [[&#34;tk_SCRATCH_BIT&#34;, [1]], [&#34;q&#34;, [3]]], &#34;op&#34;: {&#34;conditional&#34;: {&#34;op&#34;: {&#34;params&#34;: [&#34;1&#34;, &#34;0&#34;], &#34;type&#34;: &#34;PhasedX&#34;}, &#34;value&#34;: 1, &#34;width&#34;: 1}, &#34;type&#34;: &#34;Conditional&#34;}}, {&#34;args&#34;: [[&#34;tk_SCRATCH_BIT&#34;, [2]], [&#34;q&#34;, [4]]], &#34;op&#34;: {&#34;conditional&#34;: {&#34;op&#34;: {&#34;params&#34;: [&#34;1&#34;, &#34;0&#34;], &#34;type&#34;: &#34;PhasedX&#34;}, &#34;value&#34;: 1, &#34;width&#34;: 1}, &#34;type&#34;: &#34;Conditional&#34;}}, {&#34;args&#34;: [[&#34;tk_SCRATCH_BIT&#34;, [0]]], &#34;op&#34;: {&#34;conditional&#34;: {&#34;op&#34;: {&#34;params&#34;: [&#34;0.5&#34;], &#34;type&#34;: &#34;Phase&#34;}, &#34;value&#34;: 1, &#34;width&#34;: 1}, &#34;type&#34;: &#34;Conditional&#34;}}, {&#34;args&#34;: [[&#34;tk_SCRATCH_BIT&#34;, [1]]], &#34;op&#34;: {&#34;conditional&#34;: {&#34;op&#34;: {&#34;params&#34;: [&#34;0.5&#34;], &#34;type&#34;: &#34;Phase&#34;}, &#34;value&#34;: 1, &#34;width&#34;: 1}, &#34;type&#34;: &#34;Conditional&#34;}}, {&#34;args&#34;: [[&#34;tk_SCRATCH_BIT&#34;, [2]]], &#34;op&#34;: {&#34;conditional&#34;: {&#34;op&#34;: {&#34;params&#34;: [&#34;0.5&#34;], &#34;type&#34;: &#34;Phase&#34;}, &#34;value&#34;: 1, &#34;width&#34;: 1}, &#34;type&#34;: &#34;Conditional&#34;}}, {&#34;args&#34;: [[&#34;q&#34;, [1]]], &#34;op&#34;: {&#34;params&#34;: [&#34;1.5&#34;, &#34;1/2&#34;], &#34;type&#34;: &#34;PhasedX&#34;}}, {&#34;args&#34;: [[&#34;q&#34;, [2]]], &#34;op&#34;: {&#34;params&#34;: [&#34;1&#34;], &#34;type&#34;: &#34;Rz&#34;}}, {&#34;args&#34;: [[&#34;q&#34;, [3]]], &#34;op&#34;: {&#34;params&#34;: [&#34;1&#34;], &#34;type&#34;: &#34;Rz&#34;}}, {&#34;args&#34;: [[&#34;q&#34;, [4]]], &#34;op&#34;: {&#34;params&#34;: [&#34;1&#34;], &#34;type&#34;: &#34;Rz&#34;}}, {&#34;args&#34;: [[&#34;q&#34;, [2]], [&#34;q&#34;, [0]]], &#34;op&#34;: {&#34;params&#34;: [&#34;0.5&#34;], &#34;type&#34;: &#34;ZZPhase&#34;}}, {&#34;args&#34;: [[&#34;q&#34;, [0]]], &#34;op&#34;: {&#34;params&#34;: [&#34;1/2&#34;], &#34;type&#34;: &#34;Rz&#34;}}, {&#34;args&#34;: [[&#34;q&#34;, [2]]], &#34;op&#34;: {&#34;params&#34;: [&#34;3/2&#34;], &#34;type&#34;: &#34;Rz&#34;}}, {&#34;args&#34;: [[&#34;q&#34;, [0]]], &#34;op&#34;: {&#34;params&#34;: [&#34;1.5&#34;, &#34;1/2&#34;], &#34;type&#34;: &#34;PhasedX&#34;}}, {&#34;args&#34;: [[&#34;q&#34;, [0]]], &#34;op&#34;: {&#34;params&#34;: [&#34;1&#34;], &#34;type&#34;: &#34;Rz&#34;}}, {&#34;args&#34;: [[&#34;q&#34;, [0]]], &#34;op&#34;: {&#34;params&#34;: [&#34;1.5&#34;, &#34;1/2&#34;], &#34;type&#34;: &#34;PhasedX&#34;}}, {&#34;args&#34;: [[&#34;q&#34;, [3]], [&#34;q&#34;, [0]]], &#34;op&#34;: {&#34;params&#34;: [&#34;0.5&#34;], &#34;type&#34;: &#34;ZZPhase&#34;}}, {&#34;args&#34;: [[&#34;q&#34;, [0]]], &#34;op&#34;: {&#34;params&#34;: [&#34;1/2&#34;], &#34;type&#34;: &#34;Rz&#34;}}, {&#34;args&#34;: [[&#34;q&#34;, [3]]], &#34;op&#34;: {&#34;params&#34;: [&#34;3/2&#34;], &#34;type&#34;: &#34;Rz&#34;}}, {&#34;args&#34;: [[&#34;q&#34;, [0]]], &#34;op&#34;: {&#34;params&#34;: [&#34;1.5&#34;, &#34;1/2&#34;], &#34;type&#34;: &#34;PhasedX&#34;}}, {&#34;args&#34;: [[&#34;q&#34;, [3]]], &#34;op&#34;: {&#34;params&#34;: [&#34;1&#34;], &#34;type&#34;: &#34;Rz&#34;}}, {&#34;args&#34;: [[&#34;q&#34;, [0]], [&#34;syndrome&#34;, [0]]], &#34;op&#34;: {&#34;type&#34;: &#34;Measure&#34;}}, {&#34;args&#34;: [[&#34;q&#34;, [3]], [&#34;q&#34;, [1]]], &#34;op&#34;: {&#34;params&#34;: [&#34;0.5&#34;], &#34;type&#34;: &#34;ZZPhase&#34;}}, {&#34;args&#34;: [[&#34;q&#34;, [0]]], &#34;op&#34;: {&#34;type&#34;: &#34;Reset&#34;}}, {&#34;args&#34;: [[&#34;q&#34;, [1]]], &#34;op&#34;: {&#34;params&#34;: [&#34;1/2&#34;], &#34;type&#34;: &#34;Rz&#34;}}, {&#34;args&#34;: [[&#34;q&#34;, [3]]], &#34;op&#34;: {&#34;params&#34;: [&#34;3/2&#34;], &#34;type&#34;: &#34;Rz&#34;}}, {&#34;args&#34;: [[&#34;q&#34;, [0]]], &#34;op&#34;: {&#34;params&#34;: [&#34;1&#34;], &#34;type&#34;: &#34;Rz&#34;}}, {&#34;args&#34;: [[&#34;q&#34;, [1]]], &#34;op&#34;: {&#34;params&#34;: [&#34;1.5&#34;, &#34;1/2&#34;], &#34;type&#34;: &#34;PhasedX&#34;}}, {&#34;args&#34;: [[&#34;q&#34;, [0]]], &#34;op&#34;: {&#34;params&#34;: [&#34;1.5&#34;, &#34;1/2&#34;], &#34;type&#34;: &#34;PhasedX&#34;}}, {&#34;args&#34;: [[&#34;q&#34;, [1]]], &#34;op&#34;: {&#34;params&#34;: [&#34;1&#34;], &#34;type&#34;: &#34;Rz&#34;}}, {&#34;args&#34;: [[&#34;q&#34;, [1]]], &#34;op&#34;: {&#34;params&#34;: [&#34;1.5&#34;, &#34;1/2&#34;], &#34;type&#34;: &#34;PhasedX&#34;}}, {&#34;args&#34;: [[&#34;q&#34;, [4]], [&#34;q&#34;, [1]]], &#34;op&#34;: {&#34;params&#34;: [&#34;0.5&#34;], &#34;type&#34;: &#34;ZZPhase&#34;}}, {&#34;args&#34;: [[&#34;q&#34;, [1]]], &#34;op&#34;: {&#34;params&#34;: [&#34;1/2&#34;], &#34;type&#34;: &#34;Rz&#34;}}, {&#34;args&#34;: [[&#34;q&#34;, [4]]], &#34;op&#34;: {&#34;params&#34;: [&#34;3/2&#34;], &#34;type&#34;: &#34;Rz&#34;}}, {&#34;args&#34;: [[&#34;q&#34;, [1]]], &#34;op&#34;: {&#34;params&#34;: [&#34;1.5&#34;, &#34;1/2&#34;], &#34;type&#34;: &#34;PhasedX&#34;}}, {&#34;args&#34;: [[&#34;q&#34;, [1]], [&#34;syndrome&#34;, [1]]], &#34;op&#34;: {&#34;type&#34;: &#34;Measure&#34;}}, {&#34;args&#34;: [[&#34;q&#34;, [1]]], &#34;op&#34;: {&#34;type&#34;: &#34;Reset&#34;}}, {&#34;args&#34;: [[&#34;syndrome&#34;, [0]], [&#34;syndrome&#34;, [1]], [&#34;tk_SCRATCH_BIT&#34;, [3]]], &#34;op&#34;: {&#34;classical&#34;: {&#34;lower&#34;: 1, &#34;n_i&#34;: 2, &#34;upper&#34;: 1}, &#34;type&#34;: &#34;RangePredicate&#34;}}, {&#34;args&#34;: [[&#34;syndrome&#34;, [0]], [&#34;syndrome&#34;, [1]], [&#34;tk_SCRATCH_BIT&#34;, [4]]], &#34;op&#34;: {&#34;classical&#34;: {&#34;lower&#34;: 3, &#34;n_i&#34;: 2, &#34;upper&#34;: 3}, &#34;type&#34;: &#34;RangePredicate&#34;}}, {&#34;args&#34;: [[&#34;syndrome&#34;, [0]], [&#34;syndrome&#34;, [1]], [&#34;tk_SCRATCH_BIT&#34;, [5]]], &#34;op&#34;: {&#34;classical&#34;: {&#34;lower&#34;: 2, &#34;n_i&#34;: 2, &#34;upper&#34;: 2}, &#34;type&#34;: &#34;RangePredicate&#34;}}, {&#34;args&#34;: [[&#34;q&#34;, [1]]], &#34;op&#34;: {&#34;params&#34;: [&#34;1&#34;], &#34;type&#34;: &#34;Rz&#34;}}, {&#34;args&#34;: [[&#34;tk_SCRATCH_BIT&#34;, [3]], [&#34;q&#34;, [2]]], &#34;op&#34;: {&#34;conditional&#34;: {&#34;op&#34;: {&#34;params&#34;: [&#34;1&#34;, &#34;0&#34;], &#34;type&#34;: &#34;PhasedX&#34;}, &#34;value&#34;: 1, &#34;width&#34;: 1}, &#34;type&#34;: &#34;Conditional&#34;}}, {&#34;args&#34;: [[&#34;tk_SCRATCH_BIT&#34;, [4]], [&#34;q&#34;, [3]]], &#34;op&#34;: {&#34;conditional&#34;: {&#34;op&#34;: {&#34;params&#34;: [&#34;1&#34;, &#34;0&#34;], &#34;type&#34;: &#34;PhasedX&#34;}, &#34;value&#34;: 1, &#34;width&#34;: 1}, &#34;type&#34;: &#34;Conditional&#34;}}, {&#34;args&#34;: [[&#34;tk_SCRATCH_BIT&#34;, [5]], [&#34;q&#34;, [4]]], &#34;op&#34;: {&#34;conditional&#34;: {&#34;op&#34;: {&#34;params&#34;: [&#34;1&#34;, &#34;0&#34;], &#34;type&#34;: &#34;PhasedX&#34;}, &#34;value&#34;: 1, &#34;width&#34;: 1}, &#34;type&#34;: &#34;Conditional&#34;}}, {&#34;args&#34;: [[&#34;tk_SCRATCH_BIT&#34;, [3]]], &#34;op&#34;: {&#34;conditional&#34;: {&#34;op&#34;: {&#34;params&#34;: [&#34;0.5&#34;], &#34;type&#34;: &#34;Phase&#34;}, &#34;value&#34;: 1, &#34;width&#34;: 1}, &#34;type&#34;: &#34;Conditional&#34;}}, {&#34;args&#34;: [[&#34;tk_SCRATCH_BIT&#34;, [4]]], &#34;op&#34;: {&#34;conditional&#34;: {&#34;op&#34;: {&#34;params&#34;: [&#34;0.5&#34;], &#34;type&#34;: &#34;Phase&#34;}, &#34;value&#34;: 1, &#34;width&#34;: 1}, &#34;type&#34;: &#34;Conditional&#34;}}, {&#34;args&#34;: [[&#34;tk_SCRATCH_BIT&#34;, [5]]], &#34;op&#34;: {&#34;conditional&#34;: {&#34;op&#34;: {&#34;params&#34;: [&#34;0.5&#34;], &#34;type&#34;: &#34;Phase&#34;}, &#34;value&#34;: 1, &#34;width&#34;: 1}, &#34;type&#34;: &#34;Conditional&#34;}}, {&#34;args&#34;: [[&#34;q&#34;, [1]]], &#34;op&#34;: {&#34;params&#34;: [&#34;1.5&#34;, &#34;1/2&#34;], &#34;type&#34;: &#34;PhasedX&#34;}}, {&#34;args&#34;: [[&#34;q&#34;, [2]]], &#34;op&#34;: {&#34;params&#34;: [&#34;1&#34;], &#34;type&#34;: &#34;Rz&#34;}}, {&#34;args&#34;: [[&#34;q&#34;, [3]]], &#34;op&#34;: {&#34;params&#34;: [&#34;1&#34;], &#34;type&#34;: &#34;Rz&#34;}}, {&#34;args&#34;: [[&#34;q&#34;, [4]]], &#34;op&#34;: {&#34;params&#34;: [&#34;1&#34;], &#34;type&#34;: &#34;Rz&#34;}}, {&#34;args&#34;: [[&#34;q&#34;, [2]], [&#34;q&#34;, [0]]], &#34;op&#34;: {&#34;params&#34;: [&#34;0.5&#34;], &#34;type&#34;: &#34;ZZPhase&#34;}}, {&#34;args&#34;: [[&#34;q&#34;, [0]]], &#34;op&#34;: {&#34;params&#34;: [&#34;1/2&#34;], &#34;type&#34;: &#34;Rz&#34;}}, {&#34;args&#34;: [[&#34;q&#34;, [2]]], &#34;op&#34;: {&#34;params&#34;: [&#34;3/2&#34;], &#34;type&#34;: &#34;Rz&#34;}}, {&#34;args&#34;: [[&#34;q&#34;, [0]]], &#34;op&#34;: {&#34;params&#34;: [&#34;1.5&#34;, &#34;1/2&#34;], &#34;type&#34;: &#34;PhasedX&#34;}}, {&#34;args&#34;: [[&#34;q&#34;, [0]]], &#34;op&#34;: {&#34;params&#34;: [&#34;1&#34;], &#34;type&#34;: &#34;Rz&#34;}}, {&#34;args&#34;: [[&#34;q&#34;, [0]]], &#34;op&#34;: {&#34;params&#34;: [&#34;1.5&#34;, &#34;1/2&#34;], &#34;type&#34;: &#34;PhasedX&#34;}}, {&#34;args&#34;: [[&#34;q&#34;, [3]], [&#34;q&#34;, [0]]], &#34;op&#34;: {&#34;params&#34;: [&#34;0.5&#34;], &#34;type&#34;: &#34;ZZPhase&#34;}}, {&#34;args&#34;: [[&#34;q&#34;, [0]]], &#34;op&#34;: {&#34;params&#34;: [&#34;1/2&#34;], &#34;type&#34;: &#34;Rz&#34;}}, {&#34;args&#34;: [[&#34;q&#34;, [3]]], &#34;op&#34;: {&#34;params&#34;: [&#34;3/2&#34;], &#34;type&#34;: &#34;Rz&#34;}}, {&#34;args&#34;: [[&#34;q&#34;, [0]]], &#34;op&#34;: {&#34;params&#34;: [&#34;1.5&#34;, &#34;1/2&#34;], &#34;type&#34;: &#34;PhasedX&#34;}}, {&#34;args&#34;: [[&#34;q&#34;, [3]]], &#34;op&#34;: {&#34;params&#34;: [&#34;1&#34;], &#34;type&#34;: &#34;Rz&#34;}}, {&#34;args&#34;: [[&#34;q&#34;, [0]], [&#34;syndrome&#34;, [0]]], &#34;op&#34;: {&#34;type&#34;: &#34;Measure&#34;}}, {&#34;args&#34;: [[&#34;q&#34;, [3]], [&#34;q&#34;, [1]]], &#34;op&#34;: {&#34;params&#34;: [&#34;0.5&#34;], &#34;type&#34;: &#34;ZZPhase&#34;}}, {&#34;args&#34;: [[&#34;q&#34;, [0]]], &#34;op&#34;: {&#34;type&#34;: &#34;Reset&#34;}}, {&#34;args&#34;: [[&#34;q&#34;, [1]]], &#34;op&#34;: {&#34;params&#34;: [&#34;1/2&#34;], &#34;type&#34;: &#34;Rz&#34;}}, {&#34;args&#34;: [[&#34;q&#34;, [3]]], &#34;op&#34;: {&#34;params&#34;: [&#34;3/2&#34;], &#34;type&#34;: &#34;Rz&#34;}}, {&#34;args&#34;: [[&#34;q&#34;, [1]]], &#34;op&#34;: {&#34;params&#34;: [&#34;1.5&#34;, &#34;1/2&#34;], &#34;type&#34;: &#34;PhasedX&#34;}}, {&#34;args&#34;: [[&#34;q&#34;, [1]]], &#34;op&#34;: {&#34;params&#34;: [&#34;1&#34;], &#34;type&#34;: &#34;Rz&#34;}}, {&#34;args&#34;: [[&#34;q&#34;, [1]]], &#34;op&#34;: {&#34;params&#34;: [&#34;1.5&#34;, &#34;1/2&#34;], &#34;type&#34;: &#34;PhasedX&#34;}}, {&#34;args&#34;: [[&#34;q&#34;, [4]], [&#34;q&#34;, [1]]], &#34;op&#34;: {&#34;params&#34;: [&#34;0.5&#34;], &#34;type&#34;: &#34;ZZPhase&#34;}}, {&#34;args&#34;: [[&#34;q&#34;, [1]]], &#34;op&#34;: {&#34;params&#34;: [&#34;1/2&#34;], &#34;type&#34;: &#34;Rz&#34;}}, {&#34;args&#34;: [[&#34;q&#34;, [4]]], &#34;op&#34;: {&#34;params&#34;: [&#34;3/2&#34;], &#34;type&#34;: &#34;Rz&#34;}}, {&#34;args&#34;: [[&#34;q&#34;, [1]]], &#34;op&#34;: {&#34;params&#34;: [&#34;1.5&#34;, &#34;1/2&#34;], &#34;type&#34;: &#34;PhasedX&#34;}}, {&#34;args&#34;: [[&#34;q&#34;, [1]], [&#34;syndrome&#34;, [1]]], &#34;op&#34;: {&#34;type&#34;: &#34;Measure&#34;}}, {&#34;args&#34;: [[&#34;q&#34;, [1]]], &#34;op&#34;: {&#34;type&#34;: &#34;Reset&#34;}}, {&#34;args&#34;: [[&#34;syndrome&#34;, [0]], [&#34;syndrome&#34;, [1]], [&#34;tk_SCRATCH_BIT&#34;, [6]]], &#34;op&#34;: {&#34;classical&#34;: {&#34;lower&#34;: 1, &#34;n_i&#34;: 2, &#34;upper&#34;: 1}, &#34;type&#34;: &#34;RangePredicate&#34;}}, {&#34;args&#34;: [[&#34;syndrome&#34;, [0]], [&#34;syndrome&#34;, [1]], [&#34;tk_SCRATCH_BIT&#34;, [7]]], &#34;op&#34;: {&#34;classical&#34;: {&#34;lower&#34;: 3, &#34;n_i&#34;: 2, &#34;upper&#34;: 3}, &#34;type&#34;: &#34;RangePredicate&#34;}}, {&#34;args&#34;: [[&#34;syndrome&#34;, [0]], [&#34;syndrome&#34;, [1]], [&#34;tk_SCRATCH_BIT&#34;, [8]]], &#34;op&#34;: {&#34;classical&#34;: {&#34;lower&#34;: 2, &#34;n_i&#34;: 2, &#34;upper&#34;: 2}, &#34;type&#34;: &#34;RangePredicate&#34;}}, {&#34;args&#34;: [[&#34;tk_SCRATCH_BIT&#34;, [6]], [&#34;q&#34;, [2]]], &#34;op&#34;: {&#34;conditional&#34;: {&#34;op&#34;: {&#34;params&#34;: [&#34;1&#34;, &#34;0&#34;], &#34;type&#34;: &#34;PhasedX&#34;}, &#34;value&#34;: 1, &#34;width&#34;: 1}, &#34;type&#34;: &#34;Conditional&#34;}}, {&#34;args&#34;: [[&#34;tk_SCRATCH_BIT&#34;, [7]], [&#34;q&#34;, [3]]], &#34;op&#34;: {&#34;conditional&#34;: {&#34;op&#34;: {&#34;params&#34;: [&#34;1&#34;, &#34;0&#34;], &#34;type&#34;: &#34;PhasedX&#34;}, &#34;value&#34;: 1, &#34;width&#34;: 1}, &#34;type&#34;: &#34;Conditional&#34;}}, {&#34;args&#34;: [[&#34;tk_SCRATCH_BIT&#34;, [8]], [&#34;q&#34;, [4]]], &#34;op&#34;: {&#34;conditional&#34;: {&#34;op&#34;: {&#34;params&#34;: [&#34;1&#34;, &#34;0&#34;], &#34;type&#34;: &#34;PhasedX&#34;}, &#34;value&#34;: 1, &#34;width&#34;: 1}, &#34;type&#34;: &#34;Conditional&#34;}}, {&#34;args&#34;: [[&#34;tk_SCRATCH_BIT&#34;, [6]]], &#34;op&#34;: {&#34;conditional&#34;: {&#34;op&#34;: {&#34;params&#34;: [&#34;0.5&#34;], &#34;type&#34;: &#34;Phase&#34;}, &#34;value&#34;: 1, &#34;width&#34;: 1}, &#34;type&#34;: &#34;Conditional&#34;}}, {&#34;args&#34;: [[&#34;tk_SCRATCH_BIT&#34;, [7]]], &#34;op&#34;: {&#34;conditional&#34;: {&#34;op&#34;: {&#34;params&#34;: [&#34;0.5&#34;], &#34;type&#34;: &#34;Phase&#34;}, &#34;value&#34;: 1, &#34;width&#34;: 1}, &#34;type&#34;: &#34;Conditional&#34;}}, {&#34;args&#34;: [[&#34;tk_SCRATCH_BIT&#34;, [8]]], &#34;op&#34;: {&#34;conditional&#34;: {&#34;op&#34;: {&#34;params&#34;: [&#34;0.5&#34;], &#34;type&#34;: &#34;Phase&#34;}, &#34;value&#34;: 1, &#34;width&#34;: 1}, &#34;type&#34;: &#34;Conditional&#34;}}, {&#34;args&#34;: [[&#34;q&#34;, [2]], [&#34;output&#34;, [0]]], &#34;op&#34;: {&#34;type&#34;: &#34;Measure&#34;}}, {&#34;args&#34;: [[&#34;q&#34;, [3]], [&#34;output&#34;, [1]]], &#34;op&#34;: {&#34;type&#34;: &#34;Measure&#34;}}, {&#34;args&#34;: [[&#34;q&#34;, [4]], [&#34;output&#34;, [2]]], &#34;op&#34;: {&#34;type&#34;: &#34;Measure&#34;}}], &#34;created_qubits&#34;: [], &#34;discarded_qubits&#34;: [], &#34;implicit_permutation&#34;: [[[&#34;q&#34;, [0]], [&#34;q&#34;, [0]]], [[&#34;q&#34;, [1]], [&#34;q&#34;, [1]]], [[&#34;q&#34;, [2]], [&#34;q&#34;, [2]]], [[&#34;q&#34;, [3]], [&#34;q&#34;, [3]]], [[&#34;q&#34;, [4]], [&#34;q&#34;, [4]]]], &#34;name&#34;: &#34;Repetition Code&#34;, &#34;phase&#34;: &#34;1.5&#34;, &#34;qubits&#34;: [[&#34;q&#34;, [0]], [&#34;q&#34;, [1]], [&#34;q&#34;, [2]], [&#34;q&#34;, [3]], [&#34;q&#34;, [4]]]}&lt;/div&gt;\n",
       "        &lt;/div&gt;\n",
       "        &lt;circuit-display-container\n",
       "                :circuit-element-str=&#34;&#39;#circuit-json-to-display&#39;&#34;\n",
       "                :init-render-options=&#34;initRenderOptions&#34;\n",
       "        &gt;&lt;/circuit-display-container&gt;\n",
       "    &lt;/div&gt;\n",
       "    &lt;script type=&#34;application/javascript&#34;&gt;\n",
       "      const circuitRendererUid = &#34;800211c3-82f3-42c7-bded-55595dd18603&#34;;\n",
       "      const displayOptions = JSON.parse(&#39;{}&#39;);\n",
       "\n",
       "      // Script to initialise the circuit renderer app\n",
       "\n",
       "const { createApp } = Vue;\n",
       "const circuitDisplayContainer = window[&#34;pytket-circuit-renderer&#34;].default;\n",
       "// Init variables to be shared between circuit display instances\n",
       "if (typeof window.pytketCircuitDisplays === &#34;undefined&#34;) {\n",
       "    window.pytketCircuitDisplays = {};\n",
       "}\n",
       "// Create the root Vue component\n",
       "const app = createApp({\n",
       "    delimiters: [&#39;[[#&#39;, &#39;#]]&#39;],\n",
       "    components: { circuitDisplayContainer },\n",
       "    data () {\n",
       "      return {\n",
       "        initRenderOptions: displayOptions,\n",
       "      }\n",
       "    }\n",
       "})\n",
       "app.config.unwrapInjectedRef = true;\n",
       "app.mount(&#34;#circuit-display-vue-container-&#34;+circuitRendererUid);\n",
       "window.pytketCircuitDisplays[circuitRendererUid] = app;\n",
       "    &lt;/script&gt;\n",
       "\n",
       "\n",
       "\n",
       "&lt;/body&gt;\n",
       "&lt;/html&gt;\n",
       "\"\n",
       "            width=\"100%\" height=\"100%\"\n",
       "            style=\"border: none; outline: none; overflow: auto\"></iframe>\n",
       "</div>\n",
       "\n"
      ],
      "text/plain": [
       "<IPython.core.display.HTML object>"
      ]
     },
     "metadata": {},
     "output_type": "display_data"
    },
    {
     "data": {
      "text/plain": [
       "Counter({<OpType.Rz: 36>: 56,\n",
       "         <OpType.PhasedX: 66>: 28,\n",
       "         <OpType.Conditional: 102>: 18,\n",
       "         <OpType.ZZPhase: 71>: 14,\n",
       "         <OpType.Measure: 61>: 9,\n",
       "         <OpType.RangePredicate: 17>: 9,\n",
       "         <OpType.Reset: 63>: 6,\n",
       "         <OpType.Barrier: 8>: 1})"
      ]
     },
     "execution_count": 12,
     "metadata": {},
     "output_type": "execute_result"
    }
   ],
   "source": [
    "render_circuit_jupyter(compiled_circuit1)\n",
    "gate_counts(compiled_circuit1)"
   ]
  },
  {
   "cell_type": "code",
   "execution_count": 13,
   "id": "1b250ba2-aafa-4569-93bf-996c8bf9b4ee",
   "metadata": {},
   "outputs": [],
   "source": [
    "shots = 300 # execute circuit for a given number of shots"
   ]
  },
  {
   "cell_type": "code",
   "execution_count": 14,
   "id": "5aa2f6dd-4556-4910-a1d8-90e52e038419",
   "metadata": {},
   "outputs": [],
   "source": [
    "handle1 = backend.process_circuit(compiled_circuit1, n_shots=shots)"
   ]
  },
  {
   "cell_type": "code",
   "execution_count": 15,
   "id": "e6f53092-f551-48f9-a025-d0917f654458",
   "metadata": {},
   "outputs": [
    {
     "data": {
      "image/png": "[encoded data removed]",
      "text/plain": [
       "<Figure size 640x480 with 1 Axes>"
      ]
     },
     "metadata": {},
     "output_type": "display_data"
    },
    {
     "name": "stdout",
     "output_type": "stream",
     "text": [
      "Counter({(0, 0, 0, 0, 0): 295, (0, 0, 0, 0, 1): 1, (0, 0, 0, 1, 0): 1, (0, 0, 0, 1, 1): 1, (0, 0, 1, 0, 0): 1, (0, 0, 1, 0, 1): 1})\n"
     ]
    }
   ],
   "source": [
    "from plotting import plot_results\n",
    "\n",
    "result1 = backend.get_result(handle1)\n",
    "plot_results(result1, dark_mode=True, y_limit=1.2*shots)\n",
    "print(result1.get_counts())"
   ]
  },
  {
   "cell_type": "code",
   "execution_count": 16,
   "id": "00aebafa-362f-471f-bc74-72962f411a3f",
   "metadata": {},
   "outputs": [],
   "source": [
    "# run the circuit again with the bit flip error\n",
    "dist_three_circuit_with_error = pytket_rep_code_3(T=3, correction=True, add_error=True)\n",
    "compiled_circuit2 = backend.get_compiled_circuit(dist_three_circuit_with_error, optimisation_level=0)"
   ]
  },
  {
   "cell_type": "code",
   "execution_count": 17,
   "id": "4e714762-c6cc-4f23-b29b-18163fb0ed33",
   "metadata": {},
   "outputs": [
    {
     "data": {
      "image/png": "[encoded data removed]",
      "text/plain": [
       "<Figure size 640x480 with 1 Axes>"
      ]
     },
     "metadata": {},
     "output_type": "display_data"
    },
    {
     "name": "stdout",
     "output_type": "stream",
     "text": [
      "Counter({(0, 0, 0, 0, 0): 295, (0, 0, 0, 0, 1): 1, (0, 0, 0, 1, 0): 1, (0, 0, 0, 1, 1): 1, (0, 0, 1, 0, 0): 1, (0, 0, 1, 0, 1): 1})\n"
     ]
    }
   ],
   "source": [
    "handle2 = backend.process_circuit(compiled_circuit2, n_shots=shots)\n",
    "result2 = backend.get_result(handle1)\n",
    "plot_results(result2, dark_mode=True, y_limit=1.2*shots)\n",
    "print(result2.get_counts())                            "
   ]
  }
 ],
 "metadata": {
  "kernelspec": {
   "display_name": "Python 3 (ipykernel)",
   "language": "python",
   "name": "python3"
  },
  "language_info": {
   "codemirror_mode": {
    "name": "ipython",
    "version": 3
   },
   "file_extension": ".py",
   "mimetype": "text/x-python",
   "name": "python",
   "nbconvert_exporter": "python",
   "pygments_lexer": "ipython3",
   "version": "3.10.6"
  }
 },
 "nbformat": 4,
 "nbformat_minor": 5
}
