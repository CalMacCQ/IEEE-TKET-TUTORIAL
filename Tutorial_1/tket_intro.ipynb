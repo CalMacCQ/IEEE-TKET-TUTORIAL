{
 "cells": [
  {
   "cell_type": "code",
   "execution_count": null,
   "id": "47820b33-be27-44fc-9ed7-8813c8fc69d4",
   "metadata": {
    "tags": []
   },
   "outputs": [],
   "source": [
    "import warnings\n",
    "\n",
    "warnings.filterwarnings('ignore')"
   ]
  },
  {
   "cell_type": "markdown",
   "id": "8d51aec4-75d6-4ec9-9ccf-c02f8064c980",
   "metadata": {
    "slideshow": {
     "slide_type": "slide"
    }
   },
   "source": [
    "## Constructing Circuits \n",
    "\n",
    "In this section we will explore building quantum circuits in pytket with the `Circuit` class and introduce some useful circuit primitives."
   ]
  },
  {
   "cell_type": "markdown",
   "id": "f5be8c5e",
   "metadata": {
    "slideshow": {
     "slide_type": "subslide"
    }
   },
   "source": [
    "### Basic Bell circuit\n",
    "\n",
    "In pytket we can create an instance of the `Circuit` class and add gates sequentially. We can prepare an entangled Bell state using a Hadamard and a CX gate\n",
    "\n",
    "$$\n",
    "\\begin{equation}\n",
    "\\text{H} = \\frac{1}{\\sqrt{2}}\n",
    "\\begin{pmatrix}\n",
    "1 & 1 \\\\\n",
    "1 & -1\n",
    "\\end{pmatrix}\\,, \n",
    "\\quad\n",
    "CX=\n",
    "\\begin{pmatrix}\n",
    "1 & 0 & 0 & 0 \\\\\n",
    "0 & 1 & 0 & 0 \\\\\n",
    "0 & 0 & 0 & 1 \\\\\n",
    "0 & 0 & 1 & 0\n",
    "\\end{pmatrix}\n",
    "\\end{equation}\n",
    "$$"
   ]
  },
  {
   "cell_type": "code",
   "execution_count": null,
   "id": "e01b7af9-915e-42ba-ba02-9a4cee82a7c9",
   "metadata": {
    "slideshow": {
     "slide_type": "fragment"
    },
    "tags": []
   },
   "outputs": [],
   "source": [
    "from pytket import Circuit\n",
    "from pytket.circuit.display import render_circuit_jupyter\n",
    "\n",
    "bell_circ = Circuit(2, name=\"Bell\")\n",
    "bell_circ.H(0)\n",
    "bell_circ.CX(0, 1)\n",
    "render_circuit_jupyter(bell_circ)"
   ]
  },
  {
   "cell_type": "code",
   "execution_count": null,
   "id": "c5a1ffde-45dc-412f-ab32-967a36d6b9bb",
   "metadata": {
    "slideshow": {
     "slide_type": "subslide"
    },
    "tags": []
   },
   "outputs": [],
   "source": [
    "from pytket.extensions.qiskit import AerStateBackend\n",
    "\n",
    "sv_backend = AerStateBackend()\n",
    "result_state = sv_backend.run_circuit(bell_circ).get_state()\n",
    "print(\"Statevector =\", result_state)"
   ]
  },
  {
   "cell_type": "markdown",
   "id": "7d4d8693-dee9-4b83-89d2-7b2cc911ec43",
   "metadata": {},
   "source": [
    "Compare with the equation below...\n",
    "\n",
    "\n",
    "$$\n",
    "\\begin{equation}\n",
    "|\\psi \\rangle = \\frac{1}{\\sqrt{2}} \\big(|00 \\rangle + | 11 \\rangle  \\big)\\,, \\qquad \\frac{1}{\\sqrt{2}} \\approx 0.707...\n",
    "\\end{equation}\n",
    "$$"
   ]
  },
  {
   "cell_type": "code",
   "execution_count": null,
   "id": "fba80efc-7555-48e2-9a2b-d85983ee7088",
   "metadata": {
    "slideshow": {
     "slide_type": "subslide"
    },
    "tags": []
   },
   "outputs": [],
   "source": [
    "from pytket.extensions.qiskit import AerBackend\n",
    "\n",
    "bell_circ.measure_all()\n",
    "render_circuit_jupyter(bell_circ)\n",
    "\n",
    "backend = AerBackend()\n",
    "result = backend.run_circuit(bell_circ, n_shots=1000)\n",
    "print(result.get_counts())"
   ]
  },
  {
   "cell_type": "code",
   "execution_count": null,
   "id": "cc6ab7d4-7685-4212-a3ac-7c6ed22ce87e",
   "metadata": {
    "slideshow": {
     "slide_type": "skip"
    },
    "tags": []
   },
   "outputs": [],
   "source": [
    "from plotting import plot_results\n",
    "\n",
    "plot_results(result, dark_mode=True)"
   ]
  },
  {
   "cell_type": "markdown",
   "id": "ed26e90c",
   "metadata": {
    "slideshow": {
     "slide_type": "subslide"
    }
   },
   "source": [
    "### Circuit Boxes (I)\n",
    "\n",
    "* Raw quantum gates are sometimes too low level to see whats going on\n",
    "* We can wrap up sub circuits into boxes and add them to circuits (useful for subroutines).\n",
    "* Oracle subroutine example below"
   ]
  },
  {
   "cell_type": "markdown",
   "id": "fa962287-9f04-4b4b-b154-6f8d32f4eb6d",
   "metadata": {},
   "source": [
    "Define a trivial oracle for Grover's algorithm: "
   ]
  },
  {
   "cell_type": "code",
   "execution_count": null,
   "id": "351a2b9b-3b5a-4778-91c3-1d14b2157574",
   "metadata": {
    "slideshow": {
     "slide_type": "fragment"
    },
    "tags": []
   },
   "outputs": [],
   "source": [
    "from pytket import OpType\n",
    "\n",
    "oracle_circ = Circuit(4, name=\"Oracle\")\n",
    "\n",
    "oracle_circ.X(0).X(1).X(2).X(3)\n",
    "oracle_circ.add_gate(OpType.CnZ, [0, 1, 2, 3])\n",
    "oracle_circ.X(0).X(1).X(2).X(3)\n",
    "\n",
    "render_circuit_jupyter(oracle_circ)"
   ]
  },
  {
   "cell_type": "code",
   "execution_count": null,
   "id": "9f00d306-fcb2-4550-a144-8ae60c686136",
   "metadata": {},
   "outputs": [],
   "source": [
    "from pytket.circuit import CircBox\n",
    "\n",
    "oracle_box = CircBox(oracle_circ)\n",
    "circ = Circuit(4)\n",
    "circ.H(0).H(1).H(2).H(3) # Initial superposition\n",
    "circ.add_circbox(oracle_box, [0, 1, 2, 3])\n",
    "\n",
    "render_circuit_jupyter(circ)"
   ]
  },
  {
   "cell_type": "markdown",
   "id": "6eb0575f",
   "metadata": {
    "slideshow": {
     "slide_type": "subslide"
    }
   },
   "source": [
    "### Circuit Boxes (II)\n",
    "\n",
    "* Often we will need synthesise a quantum circuit to implement a gievn unitary\n",
    "* Unitary synthesis is supported by TKET (Up to 3 qubits)\n",
    "* **Fact:** A two qubit unitary can be implemented with at most 3 CX gates (KAK decomposition)\n",
    "\n"
   ]
  },
  {
   "cell_type": "code",
   "execution_count": null,
   "id": "063ae7a2-181b-456a-80f2-b1704d40948a",
   "metadata": {
    "slideshow": {
     "slide_type": "fragment"
    }
   },
   "outputs": [],
   "source": [
    "from pytket.circuit import Unitary2qBox\n",
    "from scipy.stats import unitary_group\n",
    "\n",
    "random_su4_unitary = unitary_group.rvs(4)\n",
    "\n",
    "u2_box = Unitary2qBox(random_su4_unitary)\n",
    "\n",
    "test_circ = Circuit(2)\n",
    "test_circ.add_unitary2qbox(u2_box, 0, 1)\n",
    "\n",
    "render_circuit_jupyter(test_circ)"
   ]
  },
  {
   "cell_type": "code",
   "execution_count": null,
   "id": "f7e0a86f-40f7-43ff-8620-d5f580b9be60",
   "metadata": {
    "slideshow": {
     "slide_type": "subslide"
    },
    "tags": []
   },
   "outputs": [],
   "source": [
    "from pytket.passes import DecomposeBoxes\n",
    "\n",
    "DecomposeBoxes().apply(test_circ) # Decompose the box in place\n",
    "\n",
    "render_circuit_jupyter(test_circ) # view raw circuit "
   ]
  },
  {
   "cell_type": "markdown",
   "id": "a922a8e5",
   "metadata": {
    "slideshow": {
     "slide_type": "subslide"
    }
   },
   "source": [
    "### Constructing a Circuit from QASM\n",
    "\n",
    "* OpenQASM 2.0 (Open Quantum assembly language provides a low level specification of quantum circuits)\n",
    "* We Can easily build a circuit from a QASM file (And also export a circuit to QASM)\n",
    "* No OpenQASM 3.0 support\n",
    "* QIR support a work in progress ([see pytket-qir](https://github.com/CQCL/pytket-qir))"
   ]
  },
  {
   "cell_type": "code",
   "execution_count": null,
   "id": "243f4991-f7f8-47ed-8177-dd7695bc6ff4",
   "metadata": {
    "slideshow": {
     "slide_type": "fragment"
    },
    "tags": []
   },
   "outputs": [],
   "source": [
    "from pytket.qasm import circuit_from_qasm\n",
    "\n",
    "qpe_circ = circuit_from_qasm(\"data/qpe.qasm\")\n",
    "print(\"Total number of gates =\", qpe_circ.n_gates)\n",
    "print(\"#two qubit gates =\", qpe_circ.n_2qb_gates())\n",
    "\n",
    "render_circuit_jupyter(qpe_circ)"
   ]
  },
  {
   "cell_type": "markdown",
   "id": "ac074e37-4c8e-4d26-a651-0bb8a83dd051",
   "metadata": {},
   "source": [
    "## Brief section on Optimisation passes\n",
    "\n",
    "* As we have seen with the phase estimation circuits we can boost the Fidelity of our circuits by reducing the number of gates in our circuit\n",
    "\n",
    "* Lets try optimising a circuit from quantum chemistry with the general purpose `FullPeepholeOptimise` pass"
   ]
  },
  {
   "cell_type": "code",
   "execution_count": null,
   "id": "44bf3110-83a5-4ce0-930e-646398161a9d",
   "metadata": {
    "tags": []
   },
   "outputs": [],
   "source": [
    "jw_chem_circ = circuit_from_qasm(\"data/H2JordanWignerMapper.qasm\")\n",
    "render_circuit_jupyter(jw_chem_circ)\n",
    "\n",
    "print(\"Total gate count =\", jw_chem_circ.n_gates)\n",
    "print(\"#2 qubit gates =\", jw_chem_circ.n_2qb_gates())"
   ]
  },
  {
   "cell_type": "code",
   "execution_count": null,
   "id": "0965899f-5698-4813-bf67-652e5131e6dc",
   "metadata": {
    "tags": []
   },
   "outputs": [],
   "source": [
    "from pytket.passes import FullPeepholeOptimise\n",
    "\n",
    "FullPeepholeOptimise().apply(jw_chem_circ)\n",
    "\n",
    "render_circuit_jupyter(jw_chem_circ)\n",
    "print(\"Total gate count =\", jw_chem_circ.n_gates)\n",
    "print(\"#2 qubit gates =\", jw_chem_circ.n_2qb_gates())"
   ]
  },
  {
   "cell_type": "code",
   "execution_count": null,
   "id": "2524798e-472c-4314-9fb3-f3e42864db79",
   "metadata": {
    "tags": []
   },
   "outputs": [],
   "source": [
    "from pytket.passes import auto_rebase_pass\n",
    "\n",
    "ibm_gateset = {OpType.X, OpType.SX, OpType.Rz, OpType.CX}\n",
    "ibm_rebase = auto_rebase_pass(ibm_gateset)\n",
    "\n",
    "ibm_rebase.apply(jw_chem_circ)"
   ]
  },
  {
   "cell_type": "markdown",
   "id": "e4f843f4-a76c-4007-b111-d2abec865233",
   "metadata": {},
   "source": [
    "The `auto_rebase_pass` works well if converting to a well known gateset i.e. one used by a hardware provider like IBM.\n",
    "\n",
    "Rebases to other univeral sets of 1q and 2q gates can be accomplished with `RebaseCustom`."
   ]
  },
  {
   "cell_type": "code",
   "execution_count": null,
   "id": "04da6bd5-985e-436e-9e15-240eea47fb2f",
   "metadata": {},
   "outputs": [],
   "source": [
    "render_circuit_jupyter(jw_chem_circ)"
   ]
  },
  {
   "cell_type": "markdown",
   "id": "87efb06e",
   "metadata": {},
   "source": [
    "We can also compose our own circuit transformations with `SequencePass`."
   ]
  },
  {
   "cell_type": "code",
   "execution_count": null,
   "id": "d0d12a1d",
   "metadata": {},
   "outputs": [],
   "source": [
    "from pytket.passes import SequencePass\n",
    "\n",
    "seq_pass = SequencePass([FullPeepholeOptimise(), ibm_rebase])\n",
    "\n",
    "jw_chem_circ = circuit_from_qasm(\"data/H2JordanWignerMapper.qasm\")\n",
    "\n",
    "seq_pass.apply(jw_chem_circ)\n",
    "\n",
    "render_circuit_jupyter(jw_chem_circ)"
   ]
  },
  {
   "cell_type": "markdown",
   "id": "c17a9bd0",
   "metadata": {
    "slideshow": {
     "slide_type": "subslide"
    }
   },
   "source": [
    "### Working with Qiskit, Cirq and other libraries\n",
    "\n",
    "* TKET supports easy conversion to and from qiskit circuits\n",
    "* Also supported for (Cirq, pennylane, pyquil and Q# through the extensions)\n",
    "* **Benefit:** Allows TKET compilation features to be used in conjunction with other tools "
   ]
  },
  {
   "cell_type": "code",
   "execution_count": null,
   "id": "24f29cb4-4a30-4da6-a814-42c804008067",
   "metadata": {},
   "outputs": [],
   "source": [
    "render_circuit_jupyter(circ)"
   ]
  },
  {
   "cell_type": "code",
   "execution_count": null,
   "id": "be3d7188-7c2c-41c0-8f9a-8bb0046f992a",
   "metadata": {
    "slideshow": {
     "slide_type": "fragment"
    },
    "tags": []
   },
   "outputs": [],
   "source": [
    "from pytket.extensions.qiskit import tk_to_qiskit #, qiskit_to_tk\n",
    "\n",
    "qiskit_qc = tk_to_qiskit(circ) \n",
    "# use qiskit_to_tk for conversion to TKET\n",
    "\n",
    "qiskit_qc.draw('mpl', fold=-1)"
   ]
  },
  {
   "cell_type": "markdown",
   "id": "7c7abe1a-0947-4719-a455-016a2e937054",
   "metadata": {},
   "source": [
    "## New Features!"
   ]
  },
  {
   "cell_type": "markdown",
   "id": "858dce55-7670-4797-9871-167b1b6c241e",
   "metadata": {},
   "source": [
    "## Arbitrary State Prepartation"
   ]
  },
  {
   "cell_type": "markdown",
   "id": "334da873-c084-459d-96c3-22bbd348de8a",
   "metadata": {},
   "source": [
    "We can prepare an arbitary quantum state in pytket. Note that the size of the circuit will scale exponentailly with the number of qubits\n",
    "\n",
    "Lets prepare the following state"
   ]
  },
  {
   "cell_type": "markdown",
   "id": "b3ffda5a-5eed-4b9c-a7f9-5db1e2604717",
   "metadata": {},
   "source": [
    "$$\n",
    "\\begin{equation}\n",
    "    |W\\rangle = \\frac{1}{\\sqrt{3}} \\big(|001\\rangle + |010\\rangle +  |100\\rangle \\big)\n",
    "\\end{equation}\n",
    "$$"
   ]
  },
  {
   "cell_type": "code",
   "execution_count": null,
   "id": "581ab77d-ea8f-4ff9-a874-4fa4c07c06ea",
   "metadata": {},
   "outputs": [],
   "source": [
    "from pytket.circuit import StatePreparationBox\n",
    "import numpy as np\n",
    "\n",
    "werner_state = 1 / np.sqrt(3) * np.array([0, 1, 1, 0, 1, 0, 0, 0])\n",
    "\n",
    "werner_state_box = StatePreparationBox(werner_state)\n",
    "\n",
    "state_circ = Circuit(3)\n",
    "state_circ.add_gate(werner_state_box, [0, 1, 2])\n",
    "\n",
    "render_circuit_jupyter(state_circ)"
   ]
  },
  {
   "cell_type": "markdown",
   "id": "7d66be7b-8f17-4125-adc5-31b6c2b668ad",
   "metadata": {},
   "source": [
    "## ToffoliBox\n",
    "\n",
    "A type of `Circuit` box that can implement an arbitary permutation of computational basis states.\n",
    "\n",
    "Can \"shuffle\" the amplitudes of quantum state around as desired"
   ]
  },
  {
   "cell_type": "markdown",
   "id": "5f2a1426-4b23-49b3-9d3e-86d01c64d548",
   "metadata": {},
   "source": [
    "$$\n",
    "\\begin{gather}\n",
    "    |001\\rangle \\longmapsto |111\\rangle \\\\\n",
    "    |111\\rangle \\longmapsto |001\\rangle \\\\\n",
    "    |100\\rangle \\longmapsto |000\\rangle \\\\\n",
    "    |000\\rangle \\longmapsto |100\\rangle\n",
    "\\end{gather}\n",
    "$$"
   ]
  },
  {
   "cell_type": "code",
   "execution_count": null,
   "id": "70c33b78-ec38-4fb7-adc6-4a2570431e3f",
   "metadata": {},
   "outputs": [],
   "source": [
    "from pytket.circuit import ToffoliBox\n",
    "\n",
    "# Specify the desired permutation of the basis states\n",
    "mapping = {\n",
    "    (0, 0, 1): (1, 1, 1),\n",
    "    (1, 1, 1): (0, 0, 1),\n",
    "    (1, 0, 0): (0, 0, 0),\n",
    "    (0, 0, 0): (1, 0, 0),\n",
    "}\n",
    "\n",
    "# Define box to perform the permutation\n",
    "perm_box = ToffoliBox(permutation=mapping)"
   ]
  },
  {
   "cell_type": "markdown",
   "id": "fbee3e94-2435-4ca5-bf8e-2c81cea85184",
   "metadata": {},
   "source": [
    "$$\n",
    "\\begin{equation}\n",
    "\\frac{1}{\\sqrt{3}} \\big(|001\\rangle +  |010\\rangle +|100\\rangle \\big)   \\longmapsto \\frac{1}{\\sqrt{3}} \\big(|000\\rangle + |010\\rangle + |111\\rangle \\big)\n",
    "\\end{equation}\n",
    "$$"
   ]
  },
  {
   "cell_type": "markdown",
   "id": "5262e2f9-9537-4929-b84d-370a64b97849",
   "metadata": {},
   "source": [
    "## ZX Diagrams\n",
    "\n",
    "We have ZX diagrams in pytket. ZX is a graphical language for reasoning about quantum circuits\n",
    "\n",
    "ZX has been used extensively in circuit simplification.\n",
    "\n",
    "Read the [ZX Diagrams](https://cqcl.github.io/pytket/manual/manual_zx.html#) section of the user manual.\n",
    "\n",
    "\n",
    "![ZX diagram](data/ZX_diagram.png)\n",
    "\n"
   ]
  },
  {
   "cell_type": "code",
   "execution_count": null,
   "id": "2565825b-fca3-4050-bc4e-9680af23a473",
   "metadata": {},
   "outputs": [],
   "source": [
    "circ = Circuit(5)\n",
    "circ.CCX(0, 1, 4)\n",
    "circ.CCX(2, 4, 3)\n",
    "circ.CCX(0, 1, 4)\n",
    "\n",
    "render_circuit_jupyter(circ)"
   ]
  },
  {
   "cell_type": "code",
   "execution_count": null,
   "id": "08a34c25-d922-42fe-aca1-99130a26195b",
   "metadata": {},
   "outputs": [],
   "source": [
    "import graphviz as gv\n",
    "from pytket.zx import circuit_to_zx\n",
    "\n",
    "# Conversion is only defined for a subset of gate types - rebase as needed\n",
    "supported gateset = {OpType.Rx, OpType.Rz, OpType.X, OpType.Z, OpType.H, OpType.CZ, OpType.CX }\n",
    "\n",
    "auto_rebase_pass(supported gateset).apply(circ)\n",
    "diag, _ = circuit_to_zx(circ)\n",
    "\n",
    "gv.Source(diag.to_graphviz_str())"
   ]
  },
  {
   "cell_type": "code",
   "execution_count": null,
   "id": "14fe7fab-7164-4d92-8891-c9054721b425",
   "metadata": {},
   "outputs": [],
   "source": [
    "from pytket.zx import Rewrite\n",
    "\n",
    "Rewrite.to_graphlike_form().apply(diag)\n",
    "Rewrite.reduce_graphlike_form().apply(diag)\n",
    "\n",
    "# Extraction requires the diagram to use MBQC generators\n",
    "Rewrite.to_MBQC_diag().apply(diag)\n",
    "circ, _ = diag.to_circuit()\n",
    "render_circuit_jupyter(circ)"
   ]
  },
  {
   "cell_type": "markdown",
   "id": "836971ab-67c0-49d0-9e06-e3e83d2e580c",
   "metadata": {},
   "source": [
    "**NOTE**: The steps above are all combined in the ``ZXGraphlikeOptimisationPass``"
   ]
  },
  {
   "cell_type": "markdown",
   "id": "7888deab-1ffb-47a6-b2e3-37f8c7a55a29",
   "metadata": {},
   "source": [
    "## Summary - What have we learned?\n",
    "\n",
    "* Overview of TKET and the challenges of running quantum algorithms\n",
    "* Constructing circuits using the primitives available in pytket\n",
    "* Running basic simulations of quantum circuits\n",
    "* How to target different quantum devices with pytket\n",
    "* Optimising circuits \n",
    "* Using TKET alongside other quantum SDKs\n",
    "* New features: ZX, StatePreparation, `ToffoliBox`\n",
    "\n",
    "\n",
    "Install using the command \n",
    "\n",
    "\n",
    "<p><center> <code> pip install pytket </code> </center>\n",
    "\n",
    "Useful links\n",
    "* [API docs](https://cqcl.github.io/tket/pytket/api/)\n",
    "* [Notebook examples](https://github.com/CQCL/pytket/tree/main/examples)\n",
    "* [User Manual](https://cqcl.github.io/pytket/manual/manual_intro.html)\n",
    "\n",
    "Visit the TKET repository -> https://github.com/CQCL/tket \n",
    "\n",
    "Open source  contributions welcome! :) \n",
    "\n",
    "\n",
    "## Any Questions?"
   ]
  },
  {
   "cell_type": "code",
   "execution_count": null,
   "id": "5694a73d-3e1d-4a9c-aca5-f4e767b4b2c0",
   "metadata": {},
   "outputs": [],
   "source": []
  }
 ],
 "metadata": {
  "celltoolbar": "Slideshow",
  "kernelspec": {
   "display_name": "Python 3 (ipykernel)",
   "language": "python",
   "name": "python3"
  },
  "language_info": {
   "codemirror_mode": {
    "name": "ipython",
    "version": 3
   },
   "file_extension": ".py",
   "mimetype": "text/x-python",
   "name": "python",
   "nbconvert_exporter": "python",
   "pygments_lexer": "ipython3",
   "version": "3.10.6"
  }
 },
 "nbformat": 4,
 "nbformat_minor": 5
}
